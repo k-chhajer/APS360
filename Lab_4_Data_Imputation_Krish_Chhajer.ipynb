{
  "cells": [
    {
      "cell_type": "markdown",
      "metadata": {
        "id": "OhtOdxzd1ppr"
      },
      "source": [
        "# Lab 4: Data Imputation using an Autoencoder\n",
        "\n",
        "\n",
        "In this lab, you will build and train an autoencoder to impute (or \"fill in\") missing data.\n",
        "\n",
        "We will be using the\n",
        "Adult Data Set provided by the UCI Machine Learning Repository [1], available\n",
        "at https://archive.ics.uci.edu/ml/datasets/adult.\n",
        "The data set contains census record files of adults, including their\n",
        "age, martial status, the type of work they do, and other features.\n",
        "\n",
        "Normally, people use this data set to build a supervised classification\n",
        "model to classify whether a person is a high income earner.\n",
        "We will not use the dataset for this original intended purpose.\n",
        "\n",
        "Instead, we will perform the task of imputing (or \"filling in\") missing values in the dataset. For example,\n",
        "we may be missing one person's martial status, and another person's age, and\n",
        "a third person's level of education. Our model will predict the missing features\n",
        "based on the information that we do have about each person.\n",
        "\n",
        "We will use a variation of a denoising autoencoder to solve this data imputation\n",
        "problem. Our autoencoder will be trained using inputs that have one categorical feature artificially\n",
        "removed, and the goal of the autoencoder is to correctly reconstruct all features,\n",
        "including the one removed from the input.\n",
        "\n",
        "In the process, you are expected to learn to:\n",
        "\n",
        "1. Clean and process continuous and categorical data for machine learning.\n",
        "2. Implement an autoencoder that takes continuous and categorical (one-hot) inputs.\n",
        "3. Tune the hyperparameters of an autoencoder.\n",
        "4. Use baseline models to help interpret model performance.\n",
        "\n",
        "[1] Dua, D. and Karra Taniskidou, E. (2017). UCI Machine Learning Repository [http://archive.ics.uci.edu/ml]. Irvine, CA: University of California, School of Information and Computer Science.\n",
        "\n",
        "\n",
        "### What to submit\n",
        "\n",
        "Submit a PDF file containing all your code, outputs, and write-up. You can produce a PDF of your Google Colab file by going to File > Print and then save as PDF. The Colab instructions have more information.\n",
        "\n",
        "Do not submit any other files produced by your code.\n",
        "\n",
        "Include a link to your colab file in your submission.\n"
      ]
    },
    {
      "cell_type": "markdown",
      "metadata": {
        "id": "zbnrp2ig1pps"
      },
      "source": [
        "## Colab Link\n",
        "\n",
        "Include a link to your Colab file here. If you would like the TA to look at your\n",
        "Colab file in case your solutions are cut off, **please make sure that your Colab\n",
        "file is publicly accessible at the time of submission**.\n",
        "\n",
        "Colab Link:\n",
        "\n",
        "https://colab.research.google.com/drive/1lJL0LngLnM6tVbWzPTdAuq6FGyeEEgkl?usp=sharing\n"
      ]
    },
    {
      "cell_type": "code",
      "execution_count": null,
      "metadata": {
        "collapsed": true,
        "id": "z3p8N43E1ppt"
      },
      "outputs": [],
      "source": [
        "import csv\n",
        "import numpy as np\n",
        "import random\n",
        "import torch\n",
        "import torch.utils.data"
      ]
    },
    {
      "cell_type": "markdown",
      "metadata": {
        "id": "8ROwtHcz1ppx"
      },
      "source": [
        "## Part 0\n",
        "\n",
        "We will be using a package called `pandas` for this assignment.\n",
        "\n",
        "If you are using Colab, `pandas` should already be available.\n",
        "If you are using your own computer,\n",
        "installation instructions for `pandas` are available here:\n",
        "https://pandas.pydata.org/pandas-docs/stable/install.html"
      ]
    },
    {
      "cell_type": "code",
      "execution_count": null,
      "metadata": {
        "collapsed": true,
        "id": "IXQ7BP151ppz"
      },
      "outputs": [],
      "source": [
        "import pandas as pd"
      ]
    },
    {
      "cell_type": "markdown",
      "metadata": {
        "id": "hqXihb4Q1pp2"
      },
      "source": [
        "# Part 1. Data Cleaning [15 pt]\n",
        "\n",
        "The adult.data file is available at `https://archive.ics.uci.edu/ml/machine-learning-databases/adult/adult.data`\n",
        "\n",
        "The function `pd.read_csv` loads the adult.data file into a pandas dataframe.\n",
        "You can read about the pandas documentation for `pd.read_csv` at\n",
        "https://pandas.pydata.org/pandas-docs/stable/reference/api/pandas.read_csv.html"
      ]
    },
    {
      "cell_type": "code",
      "execution_count": null,
      "metadata": {
        "colab": {
          "base_uri": "https://localhost:8080/"
        },
        "collapsed": true,
        "id": "EOMItFKn1pp3",
        "outputId": "b1fa875a-ce19-4815-ceb4-b82a0b22d5fd"
      },
      "outputs": [
        {
          "name": "stderr",
          "output_type": "stream",
          "text": [
            "<ipython-input-3-037957db2593>:3: ParserWarning: Length of header or names does not match length of data. This leads to a loss of data with index_col=False.\n",
            "  df = pd.read_csv(\n"
          ]
        }
      ],
      "source": [
        "header = ['age', 'work', 'fnlwgt', 'edu', 'yredu', 'marriage', 'occupation',\n",
        " 'relationship', 'race', 'sex', 'capgain', 'caploss', 'workhr', 'country']\n",
        "df = pd.read_csv(\n",
        "    \"https://archive.ics.uci.edu/ml/machine-learning-databases/adult/adult.data\",\n",
        "    names=header,\n",
        "    index_col=False)"
      ]
    },
    {
      "cell_type": "code",
      "execution_count": null,
      "metadata": {
        "colab": {
          "base_uri": "https://localhost:8080/"
        },
        "id": "62Ot405q1pp5",
        "outputId": "663dbb8f-2903-4a0d-e3d4-6dac93221d9a",
        "scrolled": true
      },
      "outputs": [
        {
          "data": {
            "text/plain": [
              "(32561, 14)"
            ]
          },
          "execution_count": 4,
          "metadata": {},
          "output_type": "execute_result"
        }
      ],
      "source": [
        "df.shape # there are 32561 rows (records) in the data frame, and 14 columns (features)"
      ]
    },
    {
      "cell_type": "markdown",
      "metadata": {
        "id": "Tr7YG-QY1pp8"
      },
      "source": [
        "### Part (a) Continuous Features [3 pt]\n",
        "\n",
        "For each of the columns `[\"age\", \"yredu\", \"capgain\", \"caploss\", \"workhr\"]`, report the minimum, maximum, and average value across the dataset.\n",
        "\n",
        "Then, normalize each of the features `[\"age\", \"yredu\", \"capgain\", \"caploss\", \"workhr\"]`\n",
        "so that their values are always between 0 and 1.\n",
        "Make sure that you are actually modifying the dataframe `df`.\n",
        "\n",
        "Like numpy arrays and torch tensors,\n",
        "pandas data frames can be sliced. For example, we can\n",
        "display the first 3 rows of the data frame (3 records) below."
      ]
    },
    {
      "cell_type": "code",
      "execution_count": null,
      "metadata": {
        "colab": {
          "base_uri": "https://localhost:8080/",
          "height": 233
        },
        "id": "9evSLsSa1pp9",
        "outputId": "cd048afb-285d-478b-e019-1f7eaaf626fe"
      },
      "outputs": [
        {
          "data": {
            "application/vnd.google.colaboratory.intrinsic+json": {
              "summary": "{\n  \"name\": \"df[:3] # show the first 3 records\",\n  \"rows\": 3,\n  \"fields\": [\n    {\n      \"column\": \"age\",\n      \"properties\": {\n        \"dtype\": \"number\",\n        \"std\": 6,\n        \"min\": 38,\n        \"max\": 50,\n        \"num_unique_values\": 3,\n        \"samples\": [\n          39,\n          50,\n          38\n        ],\n        \"semantic_type\": \"\",\n        \"description\": \"\"\n      }\n    },\n    {\n      \"column\": \"work\",\n      \"properties\": {\n        \"dtype\": \"string\",\n        \"num_unique_values\": 3,\n        \"samples\": [\n          \" State-gov\",\n          \" Self-emp-not-inc\",\n          \" Private\"\n        ],\n        \"semantic_type\": \"\",\n        \"description\": \"\"\n      }\n    },\n    {\n      \"column\": \"fnlwgt\",\n      \"properties\": {\n        \"dtype\": \"number\",\n        \"std\": 78130,\n        \"min\": 77516,\n        \"max\": 215646,\n        \"num_unique_values\": 3,\n        \"samples\": [\n          77516,\n          83311,\n          215646\n        ],\n        \"semantic_type\": \"\",\n        \"description\": \"\"\n      }\n    },\n    {\n      \"column\": \"edu\",\n      \"properties\": {\n        \"dtype\": \"string\",\n        \"num_unique_values\": 2,\n        \"samples\": [\n          \" HS-grad\",\n          \" Bachelors\"\n        ],\n        \"semantic_type\": \"\",\n        \"description\": \"\"\n      }\n    },\n    {\n      \"column\": \"yredu\",\n      \"properties\": {\n        \"dtype\": \"number\",\n        \"std\": 2,\n        \"min\": 9,\n        \"max\": 13,\n        \"num_unique_values\": 2,\n        \"samples\": [\n          9,\n          13\n        ],\n        \"semantic_type\": \"\",\n        \"description\": \"\"\n      }\n    },\n    {\n      \"column\": \"marriage\",\n      \"properties\": {\n        \"dtype\": \"string\",\n        \"num_unique_values\": 3,\n        \"samples\": [\n          \" Never-married\",\n          \" Married-civ-spouse\"\n        ],\n        \"semantic_type\": \"\",\n        \"description\": \"\"\n      }\n    },\n    {\n      \"column\": \"occupation\",\n      \"properties\": {\n        \"dtype\": \"string\",\n        \"num_unique_values\": 3,\n        \"samples\": [\n          \" Adm-clerical\",\n          \" Exec-managerial\"\n        ],\n        \"semantic_type\": \"\",\n        \"description\": \"\"\n      }\n    },\n    {\n      \"column\": \"relationship\",\n      \"properties\": {\n        \"dtype\": \"string\",\n        \"num_unique_values\": 2,\n        \"samples\": [\n          \" Husband\",\n          \" Not-in-family\"\n        ],\n        \"semantic_type\": \"\",\n        \"description\": \"\"\n      }\n    },\n    {\n      \"column\": \"race\",\n      \"properties\": {\n        \"dtype\": \"category\",\n        \"num_unique_values\": 1,\n        \"samples\": [\n          \" White\"\n        ],\n        \"semantic_type\": \"\",\n        \"description\": \"\"\n      }\n    },\n    {\n      \"column\": \"sex\",\n      \"properties\": {\n        \"dtype\": \"category\",\n        \"num_unique_values\": 1,\n        \"samples\": [\n          \" Male\"\n        ],\n        \"semantic_type\": \"\",\n        \"description\": \"\"\n      }\n    },\n    {\n      \"column\": \"capgain\",\n      \"properties\": {\n        \"dtype\": \"number\",\n        \"std\": 1255,\n        \"min\": 0,\n        \"max\": 2174,\n        \"num_unique_values\": 2,\n        \"samples\": [\n          0\n        ],\n        \"semantic_type\": \"\",\n        \"description\": \"\"\n      }\n    },\n    {\n      \"column\": \"caploss\",\n      \"properties\": {\n        \"dtype\": \"number\",\n        \"std\": 0,\n        \"min\": 0,\n        \"max\": 0,\n        \"num_unique_values\": 1,\n        \"samples\": [\n          0\n        ],\n        \"semantic_type\": \"\",\n        \"description\": \"\"\n      }\n    },\n    {\n      \"column\": \"workhr\",\n      \"properties\": {\n        \"dtype\": \"number\",\n        \"std\": 15,\n        \"min\": 13,\n        \"max\": 40,\n        \"num_unique_values\": 2,\n        \"samples\": [\n          13\n        ],\n        \"semantic_type\": \"\",\n        \"description\": \"\"\n      }\n    },\n    {\n      \"column\": \"country\",\n      \"properties\": {\n        \"dtype\": \"category\",\n        \"num_unique_values\": 1,\n        \"samples\": [\n          \" United-States\"\n        ],\n        \"semantic_type\": \"\",\n        \"description\": \"\"\n      }\n    }\n  ]\n}",
              "type": "dataframe"
            },
            "text/html": [
              "\n",
              "  <div id=\"df-ad63a690-8524-4bb1-b943-2878ccf0e1b3\" class=\"colab-df-container\">\n",
              "    <div>\n",
              "<style scoped>\n",
              "    .dataframe tbody tr th:only-of-type {\n",
              "        vertical-align: middle;\n",
              "    }\n",
              "\n",
              "    .dataframe tbody tr th {\n",
              "        vertical-align: top;\n",
              "    }\n",
              "\n",
              "    .dataframe thead th {\n",
              "        text-align: right;\n",
              "    }\n",
              "</style>\n",
              "<table border=\"1\" class=\"dataframe\">\n",
              "  <thead>\n",
              "    <tr style=\"text-align: right;\">\n",
              "      <th></th>\n",
              "      <th>age</th>\n",
              "      <th>work</th>\n",
              "      <th>fnlwgt</th>\n",
              "      <th>edu</th>\n",
              "      <th>yredu</th>\n",
              "      <th>marriage</th>\n",
              "      <th>occupation</th>\n",
              "      <th>relationship</th>\n",
              "      <th>race</th>\n",
              "      <th>sex</th>\n",
              "      <th>capgain</th>\n",
              "      <th>caploss</th>\n",
              "      <th>workhr</th>\n",
              "      <th>country</th>\n",
              "    </tr>\n",
              "  </thead>\n",
              "  <tbody>\n",
              "    <tr>\n",
              "      <th>0</th>\n",
              "      <td>39</td>\n",
              "      <td>State-gov</td>\n",
              "      <td>77516</td>\n",
              "      <td>Bachelors</td>\n",
              "      <td>13</td>\n",
              "      <td>Never-married</td>\n",
              "      <td>Adm-clerical</td>\n",
              "      <td>Not-in-family</td>\n",
              "      <td>White</td>\n",
              "      <td>Male</td>\n",
              "      <td>2174</td>\n",
              "      <td>0</td>\n",
              "      <td>40</td>\n",
              "      <td>United-States</td>\n",
              "    </tr>\n",
              "    <tr>\n",
              "      <th>1</th>\n",
              "      <td>50</td>\n",
              "      <td>Self-emp-not-inc</td>\n",
              "      <td>83311</td>\n",
              "      <td>Bachelors</td>\n",
              "      <td>13</td>\n",
              "      <td>Married-civ-spouse</td>\n",
              "      <td>Exec-managerial</td>\n",
              "      <td>Husband</td>\n",
              "      <td>White</td>\n",
              "      <td>Male</td>\n",
              "      <td>0</td>\n",
              "      <td>0</td>\n",
              "      <td>13</td>\n",
              "      <td>United-States</td>\n",
              "    </tr>\n",
              "    <tr>\n",
              "      <th>2</th>\n",
              "      <td>38</td>\n",
              "      <td>Private</td>\n",
              "      <td>215646</td>\n",
              "      <td>HS-grad</td>\n",
              "      <td>9</td>\n",
              "      <td>Divorced</td>\n",
              "      <td>Handlers-cleaners</td>\n",
              "      <td>Not-in-family</td>\n",
              "      <td>White</td>\n",
              "      <td>Male</td>\n",
              "      <td>0</td>\n",
              "      <td>0</td>\n",
              "      <td>40</td>\n",
              "      <td>United-States</td>\n",
              "    </tr>\n",
              "  </tbody>\n",
              "</table>\n",
              "</div>\n",
              "    <div class=\"colab-df-buttons\">\n",
              "\n",
              "  <div class=\"colab-df-container\">\n",
              "    <button class=\"colab-df-convert\" onclick=\"convertToInteractive('df-ad63a690-8524-4bb1-b943-2878ccf0e1b3')\"\n",
              "            title=\"Convert this dataframe to an interactive table.\"\n",
              "            style=\"display:none;\">\n",
              "\n",
              "  <svg xmlns=\"http://www.w3.org/2000/svg\" height=\"24px\" viewBox=\"0 -960 960 960\">\n",
              "    <path d=\"M120-120v-720h720v720H120Zm60-500h600v-160H180v160Zm220 220h160v-160H400v160Zm0 220h160v-160H400v160ZM180-400h160v-160H180v160Zm440 0h160v-160H620v160ZM180-180h160v-160H180v160Zm440 0h160v-160H620v160Z\"/>\n",
              "  </svg>\n",
              "    </button>\n",
              "\n",
              "  <style>\n",
              "    .colab-df-container {\n",
              "      display:flex;\n",
              "      gap: 12px;\n",
              "    }\n",
              "\n",
              "    .colab-df-convert {\n",
              "      background-color: #E8F0FE;\n",
              "      border: none;\n",
              "      border-radius: 50%;\n",
              "      cursor: pointer;\n",
              "      display: none;\n",
              "      fill: #1967D2;\n",
              "      height: 32px;\n",
              "      padding: 0 0 0 0;\n",
              "      width: 32px;\n",
              "    }\n",
              "\n",
              "    .colab-df-convert:hover {\n",
              "      background-color: #E2EBFA;\n",
              "      box-shadow: 0px 1px 2px rgba(60, 64, 67, 0.3), 0px 1px 3px 1px rgba(60, 64, 67, 0.15);\n",
              "      fill: #174EA6;\n",
              "    }\n",
              "\n",
              "    .colab-df-buttons div {\n",
              "      margin-bottom: 4px;\n",
              "    }\n",
              "\n",
              "    [theme=dark] .colab-df-convert {\n",
              "      background-color: #3B4455;\n",
              "      fill: #D2E3FC;\n",
              "    }\n",
              "\n",
              "    [theme=dark] .colab-df-convert:hover {\n",
              "      background-color: #434B5C;\n",
              "      box-shadow: 0px 1px 3px 1px rgba(0, 0, 0, 0.15);\n",
              "      filter: drop-shadow(0px 1px 2px rgba(0, 0, 0, 0.3));\n",
              "      fill: #FFFFFF;\n",
              "    }\n",
              "  </style>\n",
              "\n",
              "    <script>\n",
              "      const buttonEl =\n",
              "        document.querySelector('#df-ad63a690-8524-4bb1-b943-2878ccf0e1b3 button.colab-df-convert');\n",
              "      buttonEl.style.display =\n",
              "        google.colab.kernel.accessAllowed ? 'block' : 'none';\n",
              "\n",
              "      async function convertToInteractive(key) {\n",
              "        const element = document.querySelector('#df-ad63a690-8524-4bb1-b943-2878ccf0e1b3');\n",
              "        const dataTable =\n",
              "          await google.colab.kernel.invokeFunction('convertToInteractive',\n",
              "                                                    [key], {});\n",
              "        if (!dataTable) return;\n",
              "\n",
              "        const docLinkHtml = 'Like what you see? Visit the ' +\n",
              "          '<a target=\"_blank\" href=https://colab.research.google.com/notebooks/data_table.ipynb>data table notebook</a>'\n",
              "          + ' to learn more about interactive tables.';\n",
              "        element.innerHTML = '';\n",
              "        dataTable['output_type'] = 'display_data';\n",
              "        await google.colab.output.renderOutput(dataTable, element);\n",
              "        const docLink = document.createElement('div');\n",
              "        docLink.innerHTML = docLinkHtml;\n",
              "        element.appendChild(docLink);\n",
              "      }\n",
              "    </script>\n",
              "  </div>\n",
              "\n",
              "\n",
              "<div id=\"df-9e605c9a-f5d1-4d11-8c06-93fc5d5ce15b\">\n",
              "  <button class=\"colab-df-quickchart\" onclick=\"quickchart('df-9e605c9a-f5d1-4d11-8c06-93fc5d5ce15b')\"\n",
              "            title=\"Suggest charts\"\n",
              "            style=\"display:none;\">\n",
              "\n",
              "<svg xmlns=\"http://www.w3.org/2000/svg\" height=\"24px\"viewBox=\"0 0 24 24\"\n",
              "     width=\"24px\">\n",
              "    <g>\n",
              "        <path d=\"M19 3H5c-1.1 0-2 .9-2 2v14c0 1.1.9 2 2 2h14c1.1 0 2-.9 2-2V5c0-1.1-.9-2-2-2zM9 17H7v-7h2v7zm4 0h-2V7h2v10zm4 0h-2v-4h2v4z\"/>\n",
              "    </g>\n",
              "</svg>\n",
              "  </button>\n",
              "\n",
              "<style>\n",
              "  .colab-df-quickchart {\n",
              "      --bg-color: #E8F0FE;\n",
              "      --fill-color: #1967D2;\n",
              "      --hover-bg-color: #E2EBFA;\n",
              "      --hover-fill-color: #174EA6;\n",
              "      --disabled-fill-color: #AAA;\n",
              "      --disabled-bg-color: #DDD;\n",
              "  }\n",
              "\n",
              "  [theme=dark] .colab-df-quickchart {\n",
              "      --bg-color: #3B4455;\n",
              "      --fill-color: #D2E3FC;\n",
              "      --hover-bg-color: #434B5C;\n",
              "      --hover-fill-color: #FFFFFF;\n",
              "      --disabled-bg-color: #3B4455;\n",
              "      --disabled-fill-color: #666;\n",
              "  }\n",
              "\n",
              "  .colab-df-quickchart {\n",
              "    background-color: var(--bg-color);\n",
              "    border: none;\n",
              "    border-radius: 50%;\n",
              "    cursor: pointer;\n",
              "    display: none;\n",
              "    fill: var(--fill-color);\n",
              "    height: 32px;\n",
              "    padding: 0;\n",
              "    width: 32px;\n",
              "  }\n",
              "\n",
              "  .colab-df-quickchart:hover {\n",
              "    background-color: var(--hover-bg-color);\n",
              "    box-shadow: 0 1px 2px rgba(60, 64, 67, 0.3), 0 1px 3px 1px rgba(60, 64, 67, 0.15);\n",
              "    fill: var(--button-hover-fill-color);\n",
              "  }\n",
              "\n",
              "  .colab-df-quickchart-complete:disabled,\n",
              "  .colab-df-quickchart-complete:disabled:hover {\n",
              "    background-color: var(--disabled-bg-color);\n",
              "    fill: var(--disabled-fill-color);\n",
              "    box-shadow: none;\n",
              "  }\n",
              "\n",
              "  .colab-df-spinner {\n",
              "    border: 2px solid var(--fill-color);\n",
              "    border-color: transparent;\n",
              "    border-bottom-color: var(--fill-color);\n",
              "    animation:\n",
              "      spin 1s steps(1) infinite;\n",
              "  }\n",
              "\n",
              "  @keyframes spin {\n",
              "    0% {\n",
              "      border-color: transparent;\n",
              "      border-bottom-color: var(--fill-color);\n",
              "      border-left-color: var(--fill-color);\n",
              "    }\n",
              "    20% {\n",
              "      border-color: transparent;\n",
              "      border-left-color: var(--fill-color);\n",
              "      border-top-color: var(--fill-color);\n",
              "    }\n",
              "    30% {\n",
              "      border-color: transparent;\n",
              "      border-left-color: var(--fill-color);\n",
              "      border-top-color: var(--fill-color);\n",
              "      border-right-color: var(--fill-color);\n",
              "    }\n",
              "    40% {\n",
              "      border-color: transparent;\n",
              "      border-right-color: var(--fill-color);\n",
              "      border-top-color: var(--fill-color);\n",
              "    }\n",
              "    60% {\n",
              "      border-color: transparent;\n",
              "      border-right-color: var(--fill-color);\n",
              "    }\n",
              "    80% {\n",
              "      border-color: transparent;\n",
              "      border-right-color: var(--fill-color);\n",
              "      border-bottom-color: var(--fill-color);\n",
              "    }\n",
              "    90% {\n",
              "      border-color: transparent;\n",
              "      border-bottom-color: var(--fill-color);\n",
              "    }\n",
              "  }\n",
              "</style>\n",
              "\n",
              "  <script>\n",
              "    async function quickchart(key) {\n",
              "      const quickchartButtonEl =\n",
              "        document.querySelector('#' + key + ' button');\n",
              "      quickchartButtonEl.disabled = true;  // To prevent multiple clicks.\n",
              "      quickchartButtonEl.classList.add('colab-df-spinner');\n",
              "      try {\n",
              "        const charts = await google.colab.kernel.invokeFunction(\n",
              "            'suggestCharts', [key], {});\n",
              "      } catch (error) {\n",
              "        console.error('Error during call to suggestCharts:', error);\n",
              "      }\n",
              "      quickchartButtonEl.classList.remove('colab-df-spinner');\n",
              "      quickchartButtonEl.classList.add('colab-df-quickchart-complete');\n",
              "    }\n",
              "    (() => {\n",
              "      let quickchartButtonEl =\n",
              "        document.querySelector('#df-9e605c9a-f5d1-4d11-8c06-93fc5d5ce15b button');\n",
              "      quickchartButtonEl.style.display =\n",
              "        google.colab.kernel.accessAllowed ? 'block' : 'none';\n",
              "    })();\n",
              "  </script>\n",
              "</div>\n",
              "\n",
              "    </div>\n",
              "  </div>\n"
            ],
            "text/plain": [
              "   age               work  fnlwgt         edu  yredu             marriage  \\\n",
              "0   39          State-gov   77516   Bachelors     13        Never-married   \n",
              "1   50   Self-emp-not-inc   83311   Bachelors     13   Married-civ-spouse   \n",
              "2   38            Private  215646     HS-grad      9             Divorced   \n",
              "\n",
              "           occupation    relationship    race    sex  capgain  caploss  \\\n",
              "0        Adm-clerical   Not-in-family   White   Male     2174        0   \n",
              "1     Exec-managerial         Husband   White   Male        0        0   \n",
              "2   Handlers-cleaners   Not-in-family   White   Male        0        0   \n",
              "\n",
              "   workhr         country  \n",
              "0      40   United-States  \n",
              "1      13   United-States  \n",
              "2      40   United-States  "
            ]
          },
          "execution_count": 5,
          "metadata": {},
          "output_type": "execute_result"
        }
      ],
      "source": [
        "df[:3] # show the first 3 records"
      ]
    },
    {
      "cell_type": "markdown",
      "metadata": {
        "id": "gBOojI6W1pqA"
      },
      "source": [
        "Alternatively, we can slice based on column names,\n",
        "for example `df[\"race\"]`, `df[\"hr\"]`, or even index multiple columns\n",
        "like below."
      ]
    },
    {
      "cell_type": "code",
      "execution_count": null,
      "metadata": {
        "colab": {
          "base_uri": "https://localhost:8080/",
          "height": 143
        },
        "id": "4v6pp73A1pqB",
        "outputId": "9beb0ad1-8e1d-4222-a71c-5ce9c7cdb51b"
      },
      "outputs": [
        {
          "data": {
            "application/vnd.google.colaboratory.intrinsic+json": {
              "summary": "{\n  \"name\": \"subdf[:3] # show the first 3 records\",\n  \"rows\": 3,\n  \"fields\": [\n    {\n      \"column\": \"age\",\n      \"properties\": {\n        \"dtype\": \"number\",\n        \"std\": 6,\n        \"min\": 38,\n        \"max\": 50,\n        \"num_unique_values\": 3,\n        \"samples\": [\n          39,\n          50,\n          38\n        ],\n        \"semantic_type\": \"\",\n        \"description\": \"\"\n      }\n    },\n    {\n      \"column\": \"yredu\",\n      \"properties\": {\n        \"dtype\": \"number\",\n        \"std\": 2,\n        \"min\": 9,\n        \"max\": 13,\n        \"num_unique_values\": 2,\n        \"samples\": [\n          9,\n          13\n        ],\n        \"semantic_type\": \"\",\n        \"description\": \"\"\n      }\n    },\n    {\n      \"column\": \"capgain\",\n      \"properties\": {\n        \"dtype\": \"number\",\n        \"std\": 1255,\n        \"min\": 0,\n        \"max\": 2174,\n        \"num_unique_values\": 2,\n        \"samples\": [\n          0,\n          2174\n        ],\n        \"semantic_type\": \"\",\n        \"description\": \"\"\n      }\n    },\n    {\n      \"column\": \"caploss\",\n      \"properties\": {\n        \"dtype\": \"number\",\n        \"std\": 0,\n        \"min\": 0,\n        \"max\": 0,\n        \"num_unique_values\": 1,\n        \"samples\": [\n          0\n        ],\n        \"semantic_type\": \"\",\n        \"description\": \"\"\n      }\n    },\n    {\n      \"column\": \"workhr\",\n      \"properties\": {\n        \"dtype\": \"number\",\n        \"std\": 15,\n        \"min\": 13,\n        \"max\": 40,\n        \"num_unique_values\": 2,\n        \"samples\": [\n          13\n        ],\n        \"semantic_type\": \"\",\n        \"description\": \"\"\n      }\n    }\n  ]\n}",
              "type": "dataframe"
            },
            "text/html": [
              "\n",
              "  <div id=\"df-21c21355-7ec6-41da-a62a-e0cf76d54bbd\" class=\"colab-df-container\">\n",
              "    <div>\n",
              "<style scoped>\n",
              "    .dataframe tbody tr th:only-of-type {\n",
              "        vertical-align: middle;\n",
              "    }\n",
              "\n",
              "    .dataframe tbody tr th {\n",
              "        vertical-align: top;\n",
              "    }\n",
              "\n",
              "    .dataframe thead th {\n",
              "        text-align: right;\n",
              "    }\n",
              "</style>\n",
              "<table border=\"1\" class=\"dataframe\">\n",
              "  <thead>\n",
              "    <tr style=\"text-align: right;\">\n",
              "      <th></th>\n",
              "      <th>age</th>\n",
              "      <th>yredu</th>\n",
              "      <th>capgain</th>\n",
              "      <th>caploss</th>\n",
              "      <th>workhr</th>\n",
              "    </tr>\n",
              "  </thead>\n",
              "  <tbody>\n",
              "    <tr>\n",
              "      <th>0</th>\n",
              "      <td>39</td>\n",
              "      <td>13</td>\n",
              "      <td>2174</td>\n",
              "      <td>0</td>\n",
              "      <td>40</td>\n",
              "    </tr>\n",
              "    <tr>\n",
              "      <th>1</th>\n",
              "      <td>50</td>\n",
              "      <td>13</td>\n",
              "      <td>0</td>\n",
              "      <td>0</td>\n",
              "      <td>13</td>\n",
              "    </tr>\n",
              "    <tr>\n",
              "      <th>2</th>\n",
              "      <td>38</td>\n",
              "      <td>9</td>\n",
              "      <td>0</td>\n",
              "      <td>0</td>\n",
              "      <td>40</td>\n",
              "    </tr>\n",
              "  </tbody>\n",
              "</table>\n",
              "</div>\n",
              "    <div class=\"colab-df-buttons\">\n",
              "\n",
              "  <div class=\"colab-df-container\">\n",
              "    <button class=\"colab-df-convert\" onclick=\"convertToInteractive('df-21c21355-7ec6-41da-a62a-e0cf76d54bbd')\"\n",
              "            title=\"Convert this dataframe to an interactive table.\"\n",
              "            style=\"display:none;\">\n",
              "\n",
              "  <svg xmlns=\"http://www.w3.org/2000/svg\" height=\"24px\" viewBox=\"0 -960 960 960\">\n",
              "    <path d=\"M120-120v-720h720v720H120Zm60-500h600v-160H180v160Zm220 220h160v-160H400v160Zm0 220h160v-160H400v160ZM180-400h160v-160H180v160Zm440 0h160v-160H620v160ZM180-180h160v-160H180v160Zm440 0h160v-160H620v160Z\"/>\n",
              "  </svg>\n",
              "    </button>\n",
              "\n",
              "  <style>\n",
              "    .colab-df-container {\n",
              "      display:flex;\n",
              "      gap: 12px;\n",
              "    }\n",
              "\n",
              "    .colab-df-convert {\n",
              "      background-color: #E8F0FE;\n",
              "      border: none;\n",
              "      border-radius: 50%;\n",
              "      cursor: pointer;\n",
              "      display: none;\n",
              "      fill: #1967D2;\n",
              "      height: 32px;\n",
              "      padding: 0 0 0 0;\n",
              "      width: 32px;\n",
              "    }\n",
              "\n",
              "    .colab-df-convert:hover {\n",
              "      background-color: #E2EBFA;\n",
              "      box-shadow: 0px 1px 2px rgba(60, 64, 67, 0.3), 0px 1px 3px 1px rgba(60, 64, 67, 0.15);\n",
              "      fill: #174EA6;\n",
              "    }\n",
              "\n",
              "    .colab-df-buttons div {\n",
              "      margin-bottom: 4px;\n",
              "    }\n",
              "\n",
              "    [theme=dark] .colab-df-convert {\n",
              "      background-color: #3B4455;\n",
              "      fill: #D2E3FC;\n",
              "    }\n",
              "\n",
              "    [theme=dark] .colab-df-convert:hover {\n",
              "      background-color: #434B5C;\n",
              "      box-shadow: 0px 1px 3px 1px rgba(0, 0, 0, 0.15);\n",
              "      filter: drop-shadow(0px 1px 2px rgba(0, 0, 0, 0.3));\n",
              "      fill: #FFFFFF;\n",
              "    }\n",
              "  </style>\n",
              "\n",
              "    <script>\n",
              "      const buttonEl =\n",
              "        document.querySelector('#df-21c21355-7ec6-41da-a62a-e0cf76d54bbd button.colab-df-convert');\n",
              "      buttonEl.style.display =\n",
              "        google.colab.kernel.accessAllowed ? 'block' : 'none';\n",
              "\n",
              "      async function convertToInteractive(key) {\n",
              "        const element = document.querySelector('#df-21c21355-7ec6-41da-a62a-e0cf76d54bbd');\n",
              "        const dataTable =\n",
              "          await google.colab.kernel.invokeFunction('convertToInteractive',\n",
              "                                                    [key], {});\n",
              "        if (!dataTable) return;\n",
              "\n",
              "        const docLinkHtml = 'Like what you see? Visit the ' +\n",
              "          '<a target=\"_blank\" href=https://colab.research.google.com/notebooks/data_table.ipynb>data table notebook</a>'\n",
              "          + ' to learn more about interactive tables.';\n",
              "        element.innerHTML = '';\n",
              "        dataTable['output_type'] = 'display_data';\n",
              "        await google.colab.output.renderOutput(dataTable, element);\n",
              "        const docLink = document.createElement('div');\n",
              "        docLink.innerHTML = docLinkHtml;\n",
              "        element.appendChild(docLink);\n",
              "      }\n",
              "    </script>\n",
              "  </div>\n",
              "\n",
              "\n",
              "<div id=\"df-c753fecb-6291-420f-81d4-29105c2acd85\">\n",
              "  <button class=\"colab-df-quickchart\" onclick=\"quickchart('df-c753fecb-6291-420f-81d4-29105c2acd85')\"\n",
              "            title=\"Suggest charts\"\n",
              "            style=\"display:none;\">\n",
              "\n",
              "<svg xmlns=\"http://www.w3.org/2000/svg\" height=\"24px\"viewBox=\"0 0 24 24\"\n",
              "     width=\"24px\">\n",
              "    <g>\n",
              "        <path d=\"M19 3H5c-1.1 0-2 .9-2 2v14c0 1.1.9 2 2 2h14c1.1 0 2-.9 2-2V5c0-1.1-.9-2-2-2zM9 17H7v-7h2v7zm4 0h-2V7h2v10zm4 0h-2v-4h2v4z\"/>\n",
              "    </g>\n",
              "</svg>\n",
              "  </button>\n",
              "\n",
              "<style>\n",
              "  .colab-df-quickchart {\n",
              "      --bg-color: #E8F0FE;\n",
              "      --fill-color: #1967D2;\n",
              "      --hover-bg-color: #E2EBFA;\n",
              "      --hover-fill-color: #174EA6;\n",
              "      --disabled-fill-color: #AAA;\n",
              "      --disabled-bg-color: #DDD;\n",
              "  }\n",
              "\n",
              "  [theme=dark] .colab-df-quickchart {\n",
              "      --bg-color: #3B4455;\n",
              "      --fill-color: #D2E3FC;\n",
              "      --hover-bg-color: #434B5C;\n",
              "      --hover-fill-color: #FFFFFF;\n",
              "      --disabled-bg-color: #3B4455;\n",
              "      --disabled-fill-color: #666;\n",
              "  }\n",
              "\n",
              "  .colab-df-quickchart {\n",
              "    background-color: var(--bg-color);\n",
              "    border: none;\n",
              "    border-radius: 50%;\n",
              "    cursor: pointer;\n",
              "    display: none;\n",
              "    fill: var(--fill-color);\n",
              "    height: 32px;\n",
              "    padding: 0;\n",
              "    width: 32px;\n",
              "  }\n",
              "\n",
              "  .colab-df-quickchart:hover {\n",
              "    background-color: var(--hover-bg-color);\n",
              "    box-shadow: 0 1px 2px rgba(60, 64, 67, 0.3), 0 1px 3px 1px rgba(60, 64, 67, 0.15);\n",
              "    fill: var(--button-hover-fill-color);\n",
              "  }\n",
              "\n",
              "  .colab-df-quickchart-complete:disabled,\n",
              "  .colab-df-quickchart-complete:disabled:hover {\n",
              "    background-color: var(--disabled-bg-color);\n",
              "    fill: var(--disabled-fill-color);\n",
              "    box-shadow: none;\n",
              "  }\n",
              "\n",
              "  .colab-df-spinner {\n",
              "    border: 2px solid var(--fill-color);\n",
              "    border-color: transparent;\n",
              "    border-bottom-color: var(--fill-color);\n",
              "    animation:\n",
              "      spin 1s steps(1) infinite;\n",
              "  }\n",
              "\n",
              "  @keyframes spin {\n",
              "    0% {\n",
              "      border-color: transparent;\n",
              "      border-bottom-color: var(--fill-color);\n",
              "      border-left-color: var(--fill-color);\n",
              "    }\n",
              "    20% {\n",
              "      border-color: transparent;\n",
              "      border-left-color: var(--fill-color);\n",
              "      border-top-color: var(--fill-color);\n",
              "    }\n",
              "    30% {\n",
              "      border-color: transparent;\n",
              "      border-left-color: var(--fill-color);\n",
              "      border-top-color: var(--fill-color);\n",
              "      border-right-color: var(--fill-color);\n",
              "    }\n",
              "    40% {\n",
              "      border-color: transparent;\n",
              "      border-right-color: var(--fill-color);\n",
              "      border-top-color: var(--fill-color);\n",
              "    }\n",
              "    60% {\n",
              "      border-color: transparent;\n",
              "      border-right-color: var(--fill-color);\n",
              "    }\n",
              "    80% {\n",
              "      border-color: transparent;\n",
              "      border-right-color: var(--fill-color);\n",
              "      border-bottom-color: var(--fill-color);\n",
              "    }\n",
              "    90% {\n",
              "      border-color: transparent;\n",
              "      border-bottom-color: var(--fill-color);\n",
              "    }\n",
              "  }\n",
              "</style>\n",
              "\n",
              "  <script>\n",
              "    async function quickchart(key) {\n",
              "      const quickchartButtonEl =\n",
              "        document.querySelector('#' + key + ' button');\n",
              "      quickchartButtonEl.disabled = true;  // To prevent multiple clicks.\n",
              "      quickchartButtonEl.classList.add('colab-df-spinner');\n",
              "      try {\n",
              "        const charts = await google.colab.kernel.invokeFunction(\n",
              "            'suggestCharts', [key], {});\n",
              "      } catch (error) {\n",
              "        console.error('Error during call to suggestCharts:', error);\n",
              "      }\n",
              "      quickchartButtonEl.classList.remove('colab-df-spinner');\n",
              "      quickchartButtonEl.classList.add('colab-df-quickchart-complete');\n",
              "    }\n",
              "    (() => {\n",
              "      let quickchartButtonEl =\n",
              "        document.querySelector('#df-c753fecb-6291-420f-81d4-29105c2acd85 button');\n",
              "      quickchartButtonEl.style.display =\n",
              "        google.colab.kernel.accessAllowed ? 'block' : 'none';\n",
              "    })();\n",
              "  </script>\n",
              "</div>\n",
              "\n",
              "    </div>\n",
              "  </div>\n"
            ],
            "text/plain": [
              "   age  yredu  capgain  caploss  workhr\n",
              "0   39     13     2174        0      40\n",
              "1   50     13        0        0      13\n",
              "2   38      9        0        0      40"
            ]
          },
          "execution_count": 7,
          "metadata": {},
          "output_type": "execute_result"
        }
      ],
      "source": [
        "subdf = df[[\"age\", \"yredu\", \"capgain\", \"caploss\", \"workhr\"]]\n",
        "subdf[:3] # show the first 3 records"
      ]
    },
    {
      "cell_type": "markdown",
      "metadata": {
        "id": "2Nru2P0E1pqD"
      },
      "source": [
        "Numpy works nicely with pandas, like below:"
      ]
    },
    {
      "cell_type": "code",
      "execution_count": null,
      "metadata": {
        "colab": {
          "base_uri": "https://localhost:8080/"
        },
        "id": "JXrS6tjp1pqE",
        "outputId": "449cd76e-d4cf-4f24-a441-0b42d5d09b34"
      },
      "outputs": [
        {
          "data": {
            "text/plain": [
              "2842700"
            ]
          },
          "execution_count": 8,
          "metadata": {},
          "output_type": "execute_result"
        }
      ],
      "source": [
        "np.sum(subdf[\"caploss\"])"
      ]
    },
    {
      "cell_type": "markdown",
      "metadata": {
        "id": "Mv5mbxDM1pqH"
      },
      "source": [
        "Just like numpy arrays, you can modify\n",
        "entire columns of data rather than one scalar element at a time.\n",
        "For example, the code  \n",
        "\n",
        "`df[\"age\"] = df[\"age\"] + 1`\n",
        "\n",
        "would increment everyone's age by 1."
      ]
    },
    {
      "cell_type": "code",
      "execution_count": null,
      "metadata": {
        "colab": {
          "base_uri": "https://localhost:8080/",
          "height": 300
        },
        "id": "k5rlWD7-1pqH",
        "outputId": "d7c2c216-10ef-47ec-f27f-7379d7d7496a"
      },
      "outputs": [
        {
          "data": {
            "application/vnd.google.colaboratory.intrinsic+json": {
              "summary": "{\n  \"name\": \"df\",\n  \"rows\": 8,\n  \"fields\": [\n    {\n      \"column\": \"age\",\n      \"properties\": {\n        \"dtype\": \"number\",\n        \"std\": 11498.327099385337,\n        \"min\": 13.640432553581341,\n        \"max\": 32561.0,\n        \"num_unique_values\": 8,\n        \"samples\": [\n          38.58164675532078,\n          37.0,\n          32561.0\n        ],\n        \"semantic_type\": \"\",\n        \"description\": \"\"\n      }\n    },\n    {\n      \"column\": \"fnlwgt\",\n      \"properties\": {\n        \"dtype\": \"number\",\n        \"std\": 486902.252790567,\n        \"min\": 12285.0,\n        \"max\": 1484705.0,\n        \"num_unique_values\": 8,\n        \"samples\": [\n          189778.36651208502,\n          178356.0,\n          32561.0\n        ],\n        \"semantic_type\": \"\",\n        \"description\": \"\"\n      }\n    },\n    {\n      \"column\": \"yredu\",\n      \"properties\": {\n        \"dtype\": \"number\",\n        \"std\": 11508.98951393426,\n        \"min\": 1.0,\n        \"max\": 32561.0,\n        \"num_unique_values\": 8,\n        \"samples\": [\n          10.0806793403151,\n          10.0,\n          32561.0\n        ],\n        \"semantic_type\": \"\",\n        \"description\": \"\"\n      }\n    },\n    {\n      \"column\": \"capgain\",\n      \"properties\": {\n        \"dtype\": \"number\",\n        \"std\": 35111.63595222616,\n        \"min\": 0.0,\n        \"max\": 99999.0,\n        \"num_unique_values\": 5,\n        \"samples\": [\n          1077.6488437087312,\n          99999.0,\n          7385.292084840338\n        ],\n        \"semantic_type\": \"\",\n        \"description\": \"\"\n      }\n    },\n    {\n      \"column\": \"caploss\",\n      \"properties\": {\n        \"dtype\": \"number\",\n        \"std\": 11366.935322921165,\n        \"min\": 0.0,\n        \"max\": 32561.0,\n        \"num_unique_values\": 5,\n        \"samples\": [\n          87.303829734959,\n          4356.0,\n          402.9602186489998\n        ],\n        \"semantic_type\": \"\",\n        \"description\": \"\"\n      }\n    },\n    {\n      \"column\": \"workhr\",\n      \"properties\": {\n        \"dtype\": \"number\",\n        \"std\": 11498.057671750134,\n        \"min\": 1.0,\n        \"max\": 32561.0,\n        \"num_unique_values\": 7,\n        \"samples\": [\n          32561.0,\n          40.437455852092995,\n          45.0\n        ],\n        \"semantic_type\": \"\",\n        \"description\": \"\"\n      }\n    }\n  ]\n}",
              "type": "dataframe"
            },
            "text/html": [
              "\n",
              "  <div id=\"df-7f23201c-21a3-4ba8-aea0-e896376793a4\" class=\"colab-df-container\">\n",
              "    <div>\n",
              "<style scoped>\n",
              "    .dataframe tbody tr th:only-of-type {\n",
              "        vertical-align: middle;\n",
              "    }\n",
              "\n",
              "    .dataframe tbody tr th {\n",
              "        vertical-align: top;\n",
              "    }\n",
              "\n",
              "    .dataframe thead th {\n",
              "        text-align: right;\n",
              "    }\n",
              "</style>\n",
              "<table border=\"1\" class=\"dataframe\">\n",
              "  <thead>\n",
              "    <tr style=\"text-align: right;\">\n",
              "      <th></th>\n",
              "      <th>age</th>\n",
              "      <th>fnlwgt</th>\n",
              "      <th>yredu</th>\n",
              "      <th>capgain</th>\n",
              "      <th>caploss</th>\n",
              "      <th>workhr</th>\n",
              "    </tr>\n",
              "  </thead>\n",
              "  <tbody>\n",
              "    <tr>\n",
              "      <th>count</th>\n",
              "      <td>32561.000000</td>\n",
              "      <td>3.256100e+04</td>\n",
              "      <td>32561.000000</td>\n",
              "      <td>32561.000000</td>\n",
              "      <td>32561.000000</td>\n",
              "      <td>32561.000000</td>\n",
              "    </tr>\n",
              "    <tr>\n",
              "      <th>mean</th>\n",
              "      <td>38.581647</td>\n",
              "      <td>1.897784e+05</td>\n",
              "      <td>10.080679</td>\n",
              "      <td>1077.648844</td>\n",
              "      <td>87.303830</td>\n",
              "      <td>40.437456</td>\n",
              "    </tr>\n",
              "    <tr>\n",
              "      <th>std</th>\n",
              "      <td>13.640433</td>\n",
              "      <td>1.055500e+05</td>\n",
              "      <td>2.572720</td>\n",
              "      <td>7385.292085</td>\n",
              "      <td>402.960219</td>\n",
              "      <td>12.347429</td>\n",
              "    </tr>\n",
              "    <tr>\n",
              "      <th>min</th>\n",
              "      <td>17.000000</td>\n",
              "      <td>1.228500e+04</td>\n",
              "      <td>1.000000</td>\n",
              "      <td>0.000000</td>\n",
              "      <td>0.000000</td>\n",
              "      <td>1.000000</td>\n",
              "    </tr>\n",
              "    <tr>\n",
              "      <th>25%</th>\n",
              "      <td>28.000000</td>\n",
              "      <td>1.178270e+05</td>\n",
              "      <td>9.000000</td>\n",
              "      <td>0.000000</td>\n",
              "      <td>0.000000</td>\n",
              "      <td>40.000000</td>\n",
              "    </tr>\n",
              "    <tr>\n",
              "      <th>50%</th>\n",
              "      <td>37.000000</td>\n",
              "      <td>1.783560e+05</td>\n",
              "      <td>10.000000</td>\n",
              "      <td>0.000000</td>\n",
              "      <td>0.000000</td>\n",
              "      <td>40.000000</td>\n",
              "    </tr>\n",
              "    <tr>\n",
              "      <th>75%</th>\n",
              "      <td>48.000000</td>\n",
              "      <td>2.370510e+05</td>\n",
              "      <td>12.000000</td>\n",
              "      <td>0.000000</td>\n",
              "      <td>0.000000</td>\n",
              "      <td>45.000000</td>\n",
              "    </tr>\n",
              "    <tr>\n",
              "      <th>max</th>\n",
              "      <td>90.000000</td>\n",
              "      <td>1.484705e+06</td>\n",
              "      <td>16.000000</td>\n",
              "      <td>99999.000000</td>\n",
              "      <td>4356.000000</td>\n",
              "      <td>99.000000</td>\n",
              "    </tr>\n",
              "  </tbody>\n",
              "</table>\n",
              "</div>\n",
              "    <div class=\"colab-df-buttons\">\n",
              "\n",
              "  <div class=\"colab-df-container\">\n",
              "    <button class=\"colab-df-convert\" onclick=\"convertToInteractive('df-7f23201c-21a3-4ba8-aea0-e896376793a4')\"\n",
              "            title=\"Convert this dataframe to an interactive table.\"\n",
              "            style=\"display:none;\">\n",
              "\n",
              "  <svg xmlns=\"http://www.w3.org/2000/svg\" height=\"24px\" viewBox=\"0 -960 960 960\">\n",
              "    <path d=\"M120-120v-720h720v720H120Zm60-500h600v-160H180v160Zm220 220h160v-160H400v160Zm0 220h160v-160H400v160ZM180-400h160v-160H180v160Zm440 0h160v-160H620v160ZM180-180h160v-160H180v160Zm440 0h160v-160H620v160Z\"/>\n",
              "  </svg>\n",
              "    </button>\n",
              "\n",
              "  <style>\n",
              "    .colab-df-container {\n",
              "      display:flex;\n",
              "      gap: 12px;\n",
              "    }\n",
              "\n",
              "    .colab-df-convert {\n",
              "      background-color: #E8F0FE;\n",
              "      border: none;\n",
              "      border-radius: 50%;\n",
              "      cursor: pointer;\n",
              "      display: none;\n",
              "      fill: #1967D2;\n",
              "      height: 32px;\n",
              "      padding: 0 0 0 0;\n",
              "      width: 32px;\n",
              "    }\n",
              "\n",
              "    .colab-df-convert:hover {\n",
              "      background-color: #E2EBFA;\n",
              "      box-shadow: 0px 1px 2px rgba(60, 64, 67, 0.3), 0px 1px 3px 1px rgba(60, 64, 67, 0.15);\n",
              "      fill: #174EA6;\n",
              "    }\n",
              "\n",
              "    .colab-df-buttons div {\n",
              "      margin-bottom: 4px;\n",
              "    }\n",
              "\n",
              "    [theme=dark] .colab-df-convert {\n",
              "      background-color: #3B4455;\n",
              "      fill: #D2E3FC;\n",
              "    }\n",
              "\n",
              "    [theme=dark] .colab-df-convert:hover {\n",
              "      background-color: #434B5C;\n",
              "      box-shadow: 0px 1px 3px 1px rgba(0, 0, 0, 0.15);\n",
              "      filter: drop-shadow(0px 1px 2px rgba(0, 0, 0, 0.3));\n",
              "      fill: #FFFFFF;\n",
              "    }\n",
              "  </style>\n",
              "\n",
              "    <script>\n",
              "      const buttonEl =\n",
              "        document.querySelector('#df-7f23201c-21a3-4ba8-aea0-e896376793a4 button.colab-df-convert');\n",
              "      buttonEl.style.display =\n",
              "        google.colab.kernel.accessAllowed ? 'block' : 'none';\n",
              "\n",
              "      async function convertToInteractive(key) {\n",
              "        const element = document.querySelector('#df-7f23201c-21a3-4ba8-aea0-e896376793a4');\n",
              "        const dataTable =\n",
              "          await google.colab.kernel.invokeFunction('convertToInteractive',\n",
              "                                                    [key], {});\n",
              "        if (!dataTable) return;\n",
              "\n",
              "        const docLinkHtml = 'Like what you see? Visit the ' +\n",
              "          '<a target=\"_blank\" href=https://colab.research.google.com/notebooks/data_table.ipynb>data table notebook</a>'\n",
              "          + ' to learn more about interactive tables.';\n",
              "        element.innerHTML = '';\n",
              "        dataTable['output_type'] = 'display_data';\n",
              "        await google.colab.output.renderOutput(dataTable, element);\n",
              "        const docLink = document.createElement('div');\n",
              "        docLink.innerHTML = docLinkHtml;\n",
              "        element.appendChild(docLink);\n",
              "      }\n",
              "    </script>\n",
              "  </div>\n",
              "\n",
              "\n",
              "<div id=\"df-a0544cce-191b-4b2d-9544-3f17833b4468\">\n",
              "  <button class=\"colab-df-quickchart\" onclick=\"quickchart('df-a0544cce-191b-4b2d-9544-3f17833b4468')\"\n",
              "            title=\"Suggest charts\"\n",
              "            style=\"display:none;\">\n",
              "\n",
              "<svg xmlns=\"http://www.w3.org/2000/svg\" height=\"24px\"viewBox=\"0 0 24 24\"\n",
              "     width=\"24px\">\n",
              "    <g>\n",
              "        <path d=\"M19 3H5c-1.1 0-2 .9-2 2v14c0 1.1.9 2 2 2h14c1.1 0 2-.9 2-2V5c0-1.1-.9-2-2-2zM9 17H7v-7h2v7zm4 0h-2V7h2v10zm4 0h-2v-4h2v4z\"/>\n",
              "    </g>\n",
              "</svg>\n",
              "  </button>\n",
              "\n",
              "<style>\n",
              "  .colab-df-quickchart {\n",
              "      --bg-color: #E8F0FE;\n",
              "      --fill-color: #1967D2;\n",
              "      --hover-bg-color: #E2EBFA;\n",
              "      --hover-fill-color: #174EA6;\n",
              "      --disabled-fill-color: #AAA;\n",
              "      --disabled-bg-color: #DDD;\n",
              "  }\n",
              "\n",
              "  [theme=dark] .colab-df-quickchart {\n",
              "      --bg-color: #3B4455;\n",
              "      --fill-color: #D2E3FC;\n",
              "      --hover-bg-color: #434B5C;\n",
              "      --hover-fill-color: #FFFFFF;\n",
              "      --disabled-bg-color: #3B4455;\n",
              "      --disabled-fill-color: #666;\n",
              "  }\n",
              "\n",
              "  .colab-df-quickchart {\n",
              "    background-color: var(--bg-color);\n",
              "    border: none;\n",
              "    border-radius: 50%;\n",
              "    cursor: pointer;\n",
              "    display: none;\n",
              "    fill: var(--fill-color);\n",
              "    height: 32px;\n",
              "    padding: 0;\n",
              "    width: 32px;\n",
              "  }\n",
              "\n",
              "  .colab-df-quickchart:hover {\n",
              "    background-color: var(--hover-bg-color);\n",
              "    box-shadow: 0 1px 2px rgba(60, 64, 67, 0.3), 0 1px 3px 1px rgba(60, 64, 67, 0.15);\n",
              "    fill: var(--button-hover-fill-color);\n",
              "  }\n",
              "\n",
              "  .colab-df-quickchart-complete:disabled,\n",
              "  .colab-df-quickchart-complete:disabled:hover {\n",
              "    background-color: var(--disabled-bg-color);\n",
              "    fill: var(--disabled-fill-color);\n",
              "    box-shadow: none;\n",
              "  }\n",
              "\n",
              "  .colab-df-spinner {\n",
              "    border: 2px solid var(--fill-color);\n",
              "    border-color: transparent;\n",
              "    border-bottom-color: var(--fill-color);\n",
              "    animation:\n",
              "      spin 1s steps(1) infinite;\n",
              "  }\n",
              "\n",
              "  @keyframes spin {\n",
              "    0% {\n",
              "      border-color: transparent;\n",
              "      border-bottom-color: var(--fill-color);\n",
              "      border-left-color: var(--fill-color);\n",
              "    }\n",
              "    20% {\n",
              "      border-color: transparent;\n",
              "      border-left-color: var(--fill-color);\n",
              "      border-top-color: var(--fill-color);\n",
              "    }\n",
              "    30% {\n",
              "      border-color: transparent;\n",
              "      border-left-color: var(--fill-color);\n",
              "      border-top-color: var(--fill-color);\n",
              "      border-right-color: var(--fill-color);\n",
              "    }\n",
              "    40% {\n",
              "      border-color: transparent;\n",
              "      border-right-color: var(--fill-color);\n",
              "      border-top-color: var(--fill-color);\n",
              "    }\n",
              "    60% {\n",
              "      border-color: transparent;\n",
              "      border-right-color: var(--fill-color);\n",
              "    }\n",
              "    80% {\n",
              "      border-color: transparent;\n",
              "      border-right-color: var(--fill-color);\n",
              "      border-bottom-color: var(--fill-color);\n",
              "    }\n",
              "    90% {\n",
              "      border-color: transparent;\n",
              "      border-bottom-color: var(--fill-color);\n",
              "    }\n",
              "  }\n",
              "</style>\n",
              "\n",
              "  <script>\n",
              "    async function quickchart(key) {\n",
              "      const quickchartButtonEl =\n",
              "        document.querySelector('#' + key + ' button');\n",
              "      quickchartButtonEl.disabled = true;  // To prevent multiple clicks.\n",
              "      quickchartButtonEl.classList.add('colab-df-spinner');\n",
              "      try {\n",
              "        const charts = await google.colab.kernel.invokeFunction(\n",
              "            'suggestCharts', [key], {});\n",
              "      } catch (error) {\n",
              "        console.error('Error during call to suggestCharts:', error);\n",
              "      }\n",
              "      quickchartButtonEl.classList.remove('colab-df-spinner');\n",
              "      quickchartButtonEl.classList.add('colab-df-quickchart-complete');\n",
              "    }\n",
              "    (() => {\n",
              "      let quickchartButtonEl =\n",
              "        document.querySelector('#df-a0544cce-191b-4b2d-9544-3f17833b4468 button');\n",
              "      quickchartButtonEl.style.display =\n",
              "        google.colab.kernel.accessAllowed ? 'block' : 'none';\n",
              "    })();\n",
              "  </script>\n",
              "</div>\n",
              "\n",
              "    </div>\n",
              "  </div>\n"
            ],
            "text/plain": [
              "                age        fnlwgt         yredu       capgain       caploss  \\\n",
              "count  32561.000000  3.256100e+04  32561.000000  32561.000000  32561.000000   \n",
              "mean      38.581647  1.897784e+05     10.080679   1077.648844     87.303830   \n",
              "std       13.640433  1.055500e+05      2.572720   7385.292085    402.960219   \n",
              "min       17.000000  1.228500e+04      1.000000      0.000000      0.000000   \n",
              "25%       28.000000  1.178270e+05      9.000000      0.000000      0.000000   \n",
              "50%       37.000000  1.783560e+05     10.000000      0.000000      0.000000   \n",
              "75%       48.000000  2.370510e+05     12.000000      0.000000      0.000000   \n",
              "max       90.000000  1.484705e+06     16.000000  99999.000000   4356.000000   \n",
              "\n",
              "             workhr  \n",
              "count  32561.000000  \n",
              "mean      40.437456  \n",
              "std       12.347429  \n",
              "min        1.000000  \n",
              "25%       40.000000  \n",
              "50%       40.000000  \n",
              "75%       45.000000  \n",
              "max       99.000000  "
            ]
          },
          "execution_count": 9,
          "metadata": {},
          "output_type": "execute_result"
        }
      ],
      "source": [
        "##The describe() function gives us the required statistics for each of the columns\n",
        "df.describe()"
      ]
    },
    {
      "cell_type": "code",
      "execution_count": null,
      "metadata": {
        "colab": {
          "base_uri": "https://localhost:8080/",
          "height": 721
        },
        "id": "xQzv80IA1OMf",
        "outputId": "d11eeb28-adb2-449f-a805-b085e7cd67a5"
      },
      "outputs": [
        {
          "data": {
            "application/vnd.google.colaboratory.intrinsic+json": {
              "summary": "{\n  \"name\": \"df\",\n  \"rows\": 32561,\n  \"fields\": [\n    {\n      \"column\": \"age\",\n      \"properties\": {\n        \"dtype\": \"number\",\n        \"std\": 0.1868552404600184,\n        \"min\": 0.0,\n        \"max\": 1.0,\n        \"num_unique_values\": 73,\n        \"samples\": [\n          0.1506849315068493,\n          0.7671232876712328,\n          0.2465753424657534\n        ],\n        \"semantic_type\": \"\",\n        \"description\": \"\"\n      }\n    },\n    {\n      \"column\": \"work\",\n      \"properties\": {\n        \"dtype\": \"category\",\n        \"num_unique_values\": 9,\n        \"samples\": [\n          \" Without-pay\",\n          \" Self-emp-not-inc\",\n          \" ?\"\n        ],\n        \"semantic_type\": \"\",\n        \"description\": \"\"\n      }\n    },\n    {\n      \"column\": \"fnlwgt\",\n      \"properties\": {\n        \"dtype\": \"number\",\n        \"std\": 0.07168469437865707,\n        \"min\": 0.0,\n        \"max\": 1.0,\n        \"num_unique_values\": 21648,\n        \"samples\": [\n          0.07891770011273957,\n          0.31079583271077543,\n          0.151903668790155\n        ],\n        \"semantic_type\": \"\",\n        \"description\": \"\"\n      }\n    },\n    {\n      \"column\": \"edu\",\n      \"properties\": {\n        \"dtype\": \"category\",\n        \"num_unique_values\": 16,\n        \"samples\": [\n          \" Bachelors\",\n          \" HS-grad\",\n          \" Some-college\"\n        ],\n        \"semantic_type\": \"\",\n        \"description\": \"\"\n      }\n    },\n    {\n      \"column\": \"yredu\",\n      \"properties\": {\n        \"dtype\": \"number\",\n        \"std\": 0.17151468880449255,\n        \"min\": 0.0,\n        \"max\": 1.0,\n        \"num_unique_values\": 16,\n        \"samples\": [\n          0.8,\n          0.5333333333333333,\n          0.6\n        ],\n        \"semantic_type\": \"\",\n        \"description\": \"\"\n      }\n    },\n    {\n      \"column\": \"marriage\",\n      \"properties\": {\n        \"dtype\": \"category\",\n        \"num_unique_values\": 7,\n        \"samples\": [\n          \" Never-married\",\n          \" Married-civ-spouse\",\n          \" Married-AF-spouse\"\n        ],\n        \"semantic_type\": \"\",\n        \"description\": \"\"\n      }\n    },\n    {\n      \"column\": \"occupation\",\n      \"properties\": {\n        \"dtype\": \"category\",\n        \"num_unique_values\": 15,\n        \"samples\": [\n          \" Machine-op-inspct\",\n          \" ?\",\n          \" Adm-clerical\"\n        ],\n        \"semantic_type\": \"\",\n        \"description\": \"\"\n      }\n    },\n    {\n      \"column\": \"relationship\",\n      \"properties\": {\n        \"dtype\": \"category\",\n        \"num_unique_values\": 6,\n        \"samples\": [\n          \" Not-in-family\",\n          \" Husband\",\n          \" Other-relative\"\n        ],\n        \"semantic_type\": \"\",\n        \"description\": \"\"\n      }\n    },\n    {\n      \"column\": \"race\",\n      \"properties\": {\n        \"dtype\": \"category\",\n        \"num_unique_values\": 5,\n        \"samples\": [\n          \" Black\",\n          \" Other\",\n          \" Asian-Pac-Islander\"\n        ],\n        \"semantic_type\": \"\",\n        \"description\": \"\"\n      }\n    },\n    {\n      \"column\": \"sex\",\n      \"properties\": {\n        \"dtype\": \"category\",\n        \"num_unique_values\": 2,\n        \"samples\": [\n          \" Female\",\n          \" Male\"\n        ],\n        \"semantic_type\": \"\",\n        \"description\": \"\"\n      }\n    },\n    {\n      \"column\": \"capgain\",\n      \"properties\": {\n        \"dtype\": \"number\",\n        \"std\": 0.07385365938499726,\n        \"min\": 0.0,\n        \"max\": 1.0,\n        \"num_unique_values\": 119,\n        \"samples\": [\n          0.03781037810378104,\n          0.15831158311583116\n        ],\n        \"semantic_type\": \"\",\n        \"description\": \"\"\n      }\n    },\n    {\n      \"column\": \"caploss\",\n      \"properties\": {\n        \"dtype\": \"number\",\n        \"std\": 0.09250693724724511,\n        \"min\": 0.0,\n        \"max\": 1.0,\n        \"num_unique_values\": 92,\n        \"samples\": [\n          0.09618916437098256,\n          0.47084481175390264\n        ],\n        \"semantic_type\": \"\",\n        \"description\": \"\"\n      }\n    },\n    {\n      \"column\": \"workhr\",\n      \"properties\": {\n        \"dtype\": \"number\",\n        \"std\": 0.1259941702217535,\n        \"min\": 0.0,\n        \"max\": 1.0,\n        \"num_unique_values\": 94,\n        \"samples\": [\n          0.05102040816326531,\n          0.21428571428571427\n        ],\n        \"semantic_type\": \"\",\n        \"description\": \"\"\n      }\n    },\n    {\n      \"column\": \"country\",\n      \"properties\": {\n        \"dtype\": \"category\",\n        \"num_unique_values\": 42,\n        \"samples\": [\n          \" El-Salvador\",\n          \" Philippines\"\n        ],\n        \"semantic_type\": \"\",\n        \"description\": \"\"\n      }\n    }\n  ]\n}",
              "type": "dataframe",
              "variable_name": "df"
            },
            "text/html": [
              "\n",
              "  <div id=\"df-14aee4a2-8e68-404f-be85-e28235e6cd82\" class=\"colab-df-container\">\n",
              "    <div>\n",
              "<style scoped>\n",
              "    .dataframe tbody tr th:only-of-type {\n",
              "        vertical-align: middle;\n",
              "    }\n",
              "\n",
              "    .dataframe tbody tr th {\n",
              "        vertical-align: top;\n",
              "    }\n",
              "\n",
              "    .dataframe thead th {\n",
              "        text-align: right;\n",
              "    }\n",
              "</style>\n",
              "<table border=\"1\" class=\"dataframe\">\n",
              "  <thead>\n",
              "    <tr style=\"text-align: right;\">\n",
              "      <th></th>\n",
              "      <th>age</th>\n",
              "      <th>work</th>\n",
              "      <th>fnlwgt</th>\n",
              "      <th>edu</th>\n",
              "      <th>yredu</th>\n",
              "      <th>marriage</th>\n",
              "      <th>occupation</th>\n",
              "      <th>relationship</th>\n",
              "      <th>race</th>\n",
              "      <th>sex</th>\n",
              "      <th>capgain</th>\n",
              "      <th>caploss</th>\n",
              "      <th>workhr</th>\n",
              "      <th>country</th>\n",
              "    </tr>\n",
              "  </thead>\n",
              "  <tbody>\n",
              "    <tr>\n",
              "      <th>0</th>\n",
              "      <td>0.301370</td>\n",
              "      <td>State-gov</td>\n",
              "      <td>0.044302</td>\n",
              "      <td>Bachelors</td>\n",
              "      <td>0.800000</td>\n",
              "      <td>Never-married</td>\n",
              "      <td>Adm-clerical</td>\n",
              "      <td>Not-in-family</td>\n",
              "      <td>White</td>\n",
              "      <td>Male</td>\n",
              "      <td>0.021740</td>\n",
              "      <td>0.0</td>\n",
              "      <td>0.397959</td>\n",
              "      <td>United-States</td>\n",
              "    </tr>\n",
              "    <tr>\n",
              "      <th>1</th>\n",
              "      <td>0.452055</td>\n",
              "      <td>Self-emp-not-inc</td>\n",
              "      <td>0.048238</td>\n",
              "      <td>Bachelors</td>\n",
              "      <td>0.800000</td>\n",
              "      <td>Married-civ-spouse</td>\n",
              "      <td>Exec-managerial</td>\n",
              "      <td>Husband</td>\n",
              "      <td>White</td>\n",
              "      <td>Male</td>\n",
              "      <td>0.000000</td>\n",
              "      <td>0.0</td>\n",
              "      <td>0.122449</td>\n",
              "      <td>United-States</td>\n",
              "    </tr>\n",
              "    <tr>\n",
              "      <th>2</th>\n",
              "      <td>0.287671</td>\n",
              "      <td>Private</td>\n",
              "      <td>0.138113</td>\n",
              "      <td>HS-grad</td>\n",
              "      <td>0.533333</td>\n",
              "      <td>Divorced</td>\n",
              "      <td>Handlers-cleaners</td>\n",
              "      <td>Not-in-family</td>\n",
              "      <td>White</td>\n",
              "      <td>Male</td>\n",
              "      <td>0.000000</td>\n",
              "      <td>0.0</td>\n",
              "      <td>0.397959</td>\n",
              "      <td>United-States</td>\n",
              "    </tr>\n",
              "    <tr>\n",
              "      <th>3</th>\n",
              "      <td>0.493151</td>\n",
              "      <td>Private</td>\n",
              "      <td>0.151068</td>\n",
              "      <td>11th</td>\n",
              "      <td>0.400000</td>\n",
              "      <td>Married-civ-spouse</td>\n",
              "      <td>Handlers-cleaners</td>\n",
              "      <td>Husband</td>\n",
              "      <td>Black</td>\n",
              "      <td>Male</td>\n",
              "      <td>0.000000</td>\n",
              "      <td>0.0</td>\n",
              "      <td>0.397959</td>\n",
              "      <td>United-States</td>\n",
              "    </tr>\n",
              "    <tr>\n",
              "      <th>4</th>\n",
              "      <td>0.150685</td>\n",
              "      <td>Private</td>\n",
              "      <td>0.221488</td>\n",
              "      <td>Bachelors</td>\n",
              "      <td>0.800000</td>\n",
              "      <td>Married-civ-spouse</td>\n",
              "      <td>Prof-specialty</td>\n",
              "      <td>Wife</td>\n",
              "      <td>Black</td>\n",
              "      <td>Female</td>\n",
              "      <td>0.000000</td>\n",
              "      <td>0.0</td>\n",
              "      <td>0.397959</td>\n",
              "      <td>Cuba</td>\n",
              "    </tr>\n",
              "    <tr>\n",
              "      <th>...</th>\n",
              "      <td>...</td>\n",
              "      <td>...</td>\n",
              "      <td>...</td>\n",
              "      <td>...</td>\n",
              "      <td>...</td>\n",
              "      <td>...</td>\n",
              "      <td>...</td>\n",
              "      <td>...</td>\n",
              "      <td>...</td>\n",
              "      <td>...</td>\n",
              "      <td>...</td>\n",
              "      <td>...</td>\n",
              "      <td>...</td>\n",
              "      <td>...</td>\n",
              "    </tr>\n",
              "    <tr>\n",
              "      <th>32556</th>\n",
              "      <td>0.136986</td>\n",
              "      <td>Private</td>\n",
              "      <td>0.166404</td>\n",
              "      <td>Assoc-acdm</td>\n",
              "      <td>0.733333</td>\n",
              "      <td>Married-civ-spouse</td>\n",
              "      <td>Tech-support</td>\n",
              "      <td>Wife</td>\n",
              "      <td>White</td>\n",
              "      <td>Female</td>\n",
              "      <td>0.000000</td>\n",
              "      <td>0.0</td>\n",
              "      <td>0.377551</td>\n",
              "      <td>United-States</td>\n",
              "    </tr>\n",
              "    <tr>\n",
              "      <th>32557</th>\n",
              "      <td>0.315068</td>\n",
              "      <td>Private</td>\n",
              "      <td>0.096500</td>\n",
              "      <td>HS-grad</td>\n",
              "      <td>0.533333</td>\n",
              "      <td>Married-civ-spouse</td>\n",
              "      <td>Machine-op-inspct</td>\n",
              "      <td>Husband</td>\n",
              "      <td>White</td>\n",
              "      <td>Male</td>\n",
              "      <td>0.000000</td>\n",
              "      <td>0.0</td>\n",
              "      <td>0.397959</td>\n",
              "      <td>United-States</td>\n",
              "    </tr>\n",
              "    <tr>\n",
              "      <th>32558</th>\n",
              "      <td>0.561644</td>\n",
              "      <td>Private</td>\n",
              "      <td>0.094827</td>\n",
              "      <td>HS-grad</td>\n",
              "      <td>0.533333</td>\n",
              "      <td>Widowed</td>\n",
              "      <td>Adm-clerical</td>\n",
              "      <td>Unmarried</td>\n",
              "      <td>White</td>\n",
              "      <td>Female</td>\n",
              "      <td>0.000000</td>\n",
              "      <td>0.0</td>\n",
              "      <td>0.397959</td>\n",
              "      <td>United-States</td>\n",
              "    </tr>\n",
              "    <tr>\n",
              "      <th>32559</th>\n",
              "      <td>0.068493</td>\n",
              "      <td>Private</td>\n",
              "      <td>0.128499</td>\n",
              "      <td>HS-grad</td>\n",
              "      <td>0.533333</td>\n",
              "      <td>Never-married</td>\n",
              "      <td>Adm-clerical</td>\n",
              "      <td>Own-child</td>\n",
              "      <td>White</td>\n",
              "      <td>Male</td>\n",
              "      <td>0.000000</td>\n",
              "      <td>0.0</td>\n",
              "      <td>0.193878</td>\n",
              "      <td>United-States</td>\n",
              "    </tr>\n",
              "    <tr>\n",
              "      <th>32560</th>\n",
              "      <td>0.479452</td>\n",
              "      <td>Self-emp-inc</td>\n",
              "      <td>0.187203</td>\n",
              "      <td>HS-grad</td>\n",
              "      <td>0.533333</td>\n",
              "      <td>Married-civ-spouse</td>\n",
              "      <td>Exec-managerial</td>\n",
              "      <td>Wife</td>\n",
              "      <td>White</td>\n",
              "      <td>Female</td>\n",
              "      <td>0.150242</td>\n",
              "      <td>0.0</td>\n",
              "      <td>0.397959</td>\n",
              "      <td>United-States</td>\n",
              "    </tr>\n",
              "  </tbody>\n",
              "</table>\n",
              "<p>32561 rows × 14 columns</p>\n",
              "</div>\n",
              "    <div class=\"colab-df-buttons\">\n",
              "\n",
              "  <div class=\"colab-df-container\">\n",
              "    <button class=\"colab-df-convert\" onclick=\"convertToInteractive('df-14aee4a2-8e68-404f-be85-e28235e6cd82')\"\n",
              "            title=\"Convert this dataframe to an interactive table.\"\n",
              "            style=\"display:none;\">\n",
              "\n",
              "  <svg xmlns=\"http://www.w3.org/2000/svg\" height=\"24px\" viewBox=\"0 -960 960 960\">\n",
              "    <path d=\"M120-120v-720h720v720H120Zm60-500h600v-160H180v160Zm220 220h160v-160H400v160Zm0 220h160v-160H400v160ZM180-400h160v-160H180v160Zm440 0h160v-160H620v160ZM180-180h160v-160H180v160Zm440 0h160v-160H620v160Z\"/>\n",
              "  </svg>\n",
              "    </button>\n",
              "\n",
              "  <style>\n",
              "    .colab-df-container {\n",
              "      display:flex;\n",
              "      gap: 12px;\n",
              "    }\n",
              "\n",
              "    .colab-df-convert {\n",
              "      background-color: #E8F0FE;\n",
              "      border: none;\n",
              "      border-radius: 50%;\n",
              "      cursor: pointer;\n",
              "      display: none;\n",
              "      fill: #1967D2;\n",
              "      height: 32px;\n",
              "      padding: 0 0 0 0;\n",
              "      width: 32px;\n",
              "    }\n",
              "\n",
              "    .colab-df-convert:hover {\n",
              "      background-color: #E2EBFA;\n",
              "      box-shadow: 0px 1px 2px rgba(60, 64, 67, 0.3), 0px 1px 3px 1px rgba(60, 64, 67, 0.15);\n",
              "      fill: #174EA6;\n",
              "    }\n",
              "\n",
              "    .colab-df-buttons div {\n",
              "      margin-bottom: 4px;\n",
              "    }\n",
              "\n",
              "    [theme=dark] .colab-df-convert {\n",
              "      background-color: #3B4455;\n",
              "      fill: #D2E3FC;\n",
              "    }\n",
              "\n",
              "    [theme=dark] .colab-df-convert:hover {\n",
              "      background-color: #434B5C;\n",
              "      box-shadow: 0px 1px 3px 1px rgba(0, 0, 0, 0.15);\n",
              "      filter: drop-shadow(0px 1px 2px rgba(0, 0, 0, 0.3));\n",
              "      fill: #FFFFFF;\n",
              "    }\n",
              "  </style>\n",
              "\n",
              "    <script>\n",
              "      const buttonEl =\n",
              "        document.querySelector('#df-14aee4a2-8e68-404f-be85-e28235e6cd82 button.colab-df-convert');\n",
              "      buttonEl.style.display =\n",
              "        google.colab.kernel.accessAllowed ? 'block' : 'none';\n",
              "\n",
              "      async function convertToInteractive(key) {\n",
              "        const element = document.querySelector('#df-14aee4a2-8e68-404f-be85-e28235e6cd82');\n",
              "        const dataTable =\n",
              "          await google.colab.kernel.invokeFunction('convertToInteractive',\n",
              "                                                    [key], {});\n",
              "        if (!dataTable) return;\n",
              "\n",
              "        const docLinkHtml = 'Like what you see? Visit the ' +\n",
              "          '<a target=\"_blank\" href=https://colab.research.google.com/notebooks/data_table.ipynb>data table notebook</a>'\n",
              "          + ' to learn more about interactive tables.';\n",
              "        element.innerHTML = '';\n",
              "        dataTable['output_type'] = 'display_data';\n",
              "        await google.colab.output.renderOutput(dataTable, element);\n",
              "        const docLink = document.createElement('div');\n",
              "        docLink.innerHTML = docLinkHtml;\n",
              "        element.appendChild(docLink);\n",
              "      }\n",
              "    </script>\n",
              "  </div>\n",
              "\n",
              "\n",
              "<div id=\"df-4f54764d-5e92-457b-add7-2443e69142f6\">\n",
              "  <button class=\"colab-df-quickchart\" onclick=\"quickchart('df-4f54764d-5e92-457b-add7-2443e69142f6')\"\n",
              "            title=\"Suggest charts\"\n",
              "            style=\"display:none;\">\n",
              "\n",
              "<svg xmlns=\"http://www.w3.org/2000/svg\" height=\"24px\"viewBox=\"0 0 24 24\"\n",
              "     width=\"24px\">\n",
              "    <g>\n",
              "        <path d=\"M19 3H5c-1.1 0-2 .9-2 2v14c0 1.1.9 2 2 2h14c1.1 0 2-.9 2-2V5c0-1.1-.9-2-2-2zM9 17H7v-7h2v7zm4 0h-2V7h2v10zm4 0h-2v-4h2v4z\"/>\n",
              "    </g>\n",
              "</svg>\n",
              "  </button>\n",
              "\n",
              "<style>\n",
              "  .colab-df-quickchart {\n",
              "      --bg-color: #E8F0FE;\n",
              "      --fill-color: #1967D2;\n",
              "      --hover-bg-color: #E2EBFA;\n",
              "      --hover-fill-color: #174EA6;\n",
              "      --disabled-fill-color: #AAA;\n",
              "      --disabled-bg-color: #DDD;\n",
              "  }\n",
              "\n",
              "  [theme=dark] .colab-df-quickchart {\n",
              "      --bg-color: #3B4455;\n",
              "      --fill-color: #D2E3FC;\n",
              "      --hover-bg-color: #434B5C;\n",
              "      --hover-fill-color: #FFFFFF;\n",
              "      --disabled-bg-color: #3B4455;\n",
              "      --disabled-fill-color: #666;\n",
              "  }\n",
              "\n",
              "  .colab-df-quickchart {\n",
              "    background-color: var(--bg-color);\n",
              "    border: none;\n",
              "    border-radius: 50%;\n",
              "    cursor: pointer;\n",
              "    display: none;\n",
              "    fill: var(--fill-color);\n",
              "    height: 32px;\n",
              "    padding: 0;\n",
              "    width: 32px;\n",
              "  }\n",
              "\n",
              "  .colab-df-quickchart:hover {\n",
              "    background-color: var(--hover-bg-color);\n",
              "    box-shadow: 0 1px 2px rgba(60, 64, 67, 0.3), 0 1px 3px 1px rgba(60, 64, 67, 0.15);\n",
              "    fill: var(--button-hover-fill-color);\n",
              "  }\n",
              "\n",
              "  .colab-df-quickchart-complete:disabled,\n",
              "  .colab-df-quickchart-complete:disabled:hover {\n",
              "    background-color: var(--disabled-bg-color);\n",
              "    fill: var(--disabled-fill-color);\n",
              "    box-shadow: none;\n",
              "  }\n",
              "\n",
              "  .colab-df-spinner {\n",
              "    border: 2px solid var(--fill-color);\n",
              "    border-color: transparent;\n",
              "    border-bottom-color: var(--fill-color);\n",
              "    animation:\n",
              "      spin 1s steps(1) infinite;\n",
              "  }\n",
              "\n",
              "  @keyframes spin {\n",
              "    0% {\n",
              "      border-color: transparent;\n",
              "      border-bottom-color: var(--fill-color);\n",
              "      border-left-color: var(--fill-color);\n",
              "    }\n",
              "    20% {\n",
              "      border-color: transparent;\n",
              "      border-left-color: var(--fill-color);\n",
              "      border-top-color: var(--fill-color);\n",
              "    }\n",
              "    30% {\n",
              "      border-color: transparent;\n",
              "      border-left-color: var(--fill-color);\n",
              "      border-top-color: var(--fill-color);\n",
              "      border-right-color: var(--fill-color);\n",
              "    }\n",
              "    40% {\n",
              "      border-color: transparent;\n",
              "      border-right-color: var(--fill-color);\n",
              "      border-top-color: var(--fill-color);\n",
              "    }\n",
              "    60% {\n",
              "      border-color: transparent;\n",
              "      border-right-color: var(--fill-color);\n",
              "    }\n",
              "    80% {\n",
              "      border-color: transparent;\n",
              "      border-right-color: var(--fill-color);\n",
              "      border-bottom-color: var(--fill-color);\n",
              "    }\n",
              "    90% {\n",
              "      border-color: transparent;\n",
              "      border-bottom-color: var(--fill-color);\n",
              "    }\n",
              "  }\n",
              "</style>\n",
              "\n",
              "  <script>\n",
              "    async function quickchart(key) {\n",
              "      const quickchartButtonEl =\n",
              "        document.querySelector('#' + key + ' button');\n",
              "      quickchartButtonEl.disabled = true;  // To prevent multiple clicks.\n",
              "      quickchartButtonEl.classList.add('colab-df-spinner');\n",
              "      try {\n",
              "        const charts = await google.colab.kernel.invokeFunction(\n",
              "            'suggestCharts', [key], {});\n",
              "      } catch (error) {\n",
              "        console.error('Error during call to suggestCharts:', error);\n",
              "      }\n",
              "      quickchartButtonEl.classList.remove('colab-df-spinner');\n",
              "      quickchartButtonEl.classList.add('colab-df-quickchart-complete');\n",
              "    }\n",
              "    (() => {\n",
              "      let quickchartButtonEl =\n",
              "        document.querySelector('#df-4f54764d-5e92-457b-add7-2443e69142f6 button');\n",
              "      quickchartButtonEl.style.display =\n",
              "        google.colab.kernel.accessAllowed ? 'block' : 'none';\n",
              "    })();\n",
              "  </script>\n",
              "</div>\n",
              "\n",
              "  <div id=\"id_4a41309d-fe9c-47fe-862a-51f68b54ad08\">\n",
              "    <style>\n",
              "      .colab-df-generate {\n",
              "        background-color: #E8F0FE;\n",
              "        border: none;\n",
              "        border-radius: 50%;\n",
              "        cursor: pointer;\n",
              "        display: none;\n",
              "        fill: #1967D2;\n",
              "        height: 32px;\n",
              "        padding: 0 0 0 0;\n",
              "        width: 32px;\n",
              "      }\n",
              "\n",
              "      .colab-df-generate:hover {\n",
              "        background-color: #E2EBFA;\n",
              "        box-shadow: 0px 1px 2px rgba(60, 64, 67, 0.3), 0px 1px 3px 1px rgba(60, 64, 67, 0.15);\n",
              "        fill: #174EA6;\n",
              "      }\n",
              "\n",
              "      [theme=dark] .colab-df-generate {\n",
              "        background-color: #3B4455;\n",
              "        fill: #D2E3FC;\n",
              "      }\n",
              "\n",
              "      [theme=dark] .colab-df-generate:hover {\n",
              "        background-color: #434B5C;\n",
              "        box-shadow: 0px 1px 3px 1px rgba(0, 0, 0, 0.15);\n",
              "        filter: drop-shadow(0px 1px 2px rgba(0, 0, 0, 0.3));\n",
              "        fill: #FFFFFF;\n",
              "      }\n",
              "    </style>\n",
              "    <button class=\"colab-df-generate\" onclick=\"generateWithVariable('df')\"\n",
              "            title=\"Generate code using this dataframe.\"\n",
              "            style=\"display:none;\">\n",
              "\n",
              "  <svg xmlns=\"http://www.w3.org/2000/svg\" height=\"24px\"viewBox=\"0 0 24 24\"\n",
              "       width=\"24px\">\n",
              "    <path d=\"M7,19H8.4L18.45,9,17,7.55,7,17.6ZM5,21V16.75L18.45,3.32a2,2,0,0,1,2.83,0l1.4,1.43a1.91,1.91,0,0,1,.58,1.4,1.91,1.91,0,0,1-.58,1.4L9.25,21ZM18.45,9,17,7.55Zm-12,3A5.31,5.31,0,0,0,4.9,8.1,5.31,5.31,0,0,0,1,6.5,5.31,5.31,0,0,0,4.9,4.9,5.31,5.31,0,0,0,6.5,1,5.31,5.31,0,0,0,8.1,4.9,5.31,5.31,0,0,0,12,6.5,5.46,5.46,0,0,0,6.5,12Z\"/>\n",
              "  </svg>\n",
              "    </button>\n",
              "    <script>\n",
              "      (() => {\n",
              "      const buttonEl =\n",
              "        document.querySelector('#id_4a41309d-fe9c-47fe-862a-51f68b54ad08 button.colab-df-generate');\n",
              "      buttonEl.style.display =\n",
              "        google.colab.kernel.accessAllowed ? 'block' : 'none';\n",
              "\n",
              "      buttonEl.onclick = () => {\n",
              "        google.colab.notebook.generateWithVariable('df');\n",
              "      }\n",
              "      })();\n",
              "    </script>\n",
              "  </div>\n",
              "\n",
              "    </div>\n",
              "  </div>\n"
            ],
            "text/plain": [
              "            age               work    fnlwgt          edu     yredu  \\\n",
              "0      0.301370          State-gov  0.044302    Bachelors  0.800000   \n",
              "1      0.452055   Self-emp-not-inc  0.048238    Bachelors  0.800000   \n",
              "2      0.287671            Private  0.138113      HS-grad  0.533333   \n",
              "3      0.493151            Private  0.151068         11th  0.400000   \n",
              "4      0.150685            Private  0.221488    Bachelors  0.800000   \n",
              "...         ...                ...       ...          ...       ...   \n",
              "32556  0.136986            Private  0.166404   Assoc-acdm  0.733333   \n",
              "32557  0.315068            Private  0.096500      HS-grad  0.533333   \n",
              "32558  0.561644            Private  0.094827      HS-grad  0.533333   \n",
              "32559  0.068493            Private  0.128499      HS-grad  0.533333   \n",
              "32560  0.479452       Self-emp-inc  0.187203      HS-grad  0.533333   \n",
              "\n",
              "                  marriage          occupation    relationship    race  \\\n",
              "0            Never-married        Adm-clerical   Not-in-family   White   \n",
              "1       Married-civ-spouse     Exec-managerial         Husband   White   \n",
              "2                 Divorced   Handlers-cleaners   Not-in-family   White   \n",
              "3       Married-civ-spouse   Handlers-cleaners         Husband   Black   \n",
              "4       Married-civ-spouse      Prof-specialty            Wife   Black   \n",
              "...                    ...                 ...             ...     ...   \n",
              "32556   Married-civ-spouse        Tech-support            Wife   White   \n",
              "32557   Married-civ-spouse   Machine-op-inspct         Husband   White   \n",
              "32558              Widowed        Adm-clerical       Unmarried   White   \n",
              "32559        Never-married        Adm-clerical       Own-child   White   \n",
              "32560   Married-civ-spouse     Exec-managerial            Wife   White   \n",
              "\n",
              "           sex   capgain  caploss    workhr         country  \n",
              "0         Male  0.021740      0.0  0.397959   United-States  \n",
              "1         Male  0.000000      0.0  0.122449   United-States  \n",
              "2         Male  0.000000      0.0  0.397959   United-States  \n",
              "3         Male  0.000000      0.0  0.397959   United-States  \n",
              "4       Female  0.000000      0.0  0.397959            Cuba  \n",
              "...        ...       ...      ...       ...             ...  \n",
              "32556   Female  0.000000      0.0  0.377551   United-States  \n",
              "32557     Male  0.000000      0.0  0.397959   United-States  \n",
              "32558   Female  0.000000      0.0  0.397959   United-States  \n",
              "32559     Male  0.000000      0.0  0.193878   United-States  \n",
              "32560   Female  0.150242      0.0  0.397959   United-States  \n",
              "\n",
              "[32561 rows x 14 columns]"
            ]
          },
          "execution_count": 10,
          "metadata": {},
          "output_type": "execute_result"
        }
      ],
      "source": [
        "#Normalizing each of the columns using min-max normalization\n",
        "df['age'] = (df['age'] - 17)/(90 - 17)\n",
        "df['fnlwgt'] = (df['fnlwgt'] - 12285)/(1484705 - 12285)\n",
        "df['yredu'] = (df['yredu'] - 1)/(16 - 1)\n",
        "df['capgain'] = (df['capgain'] - 0)/99999\n",
        "df['caploss'] = (df['caploss'] - 0)/4356\n",
        "df['workhr'] = (df['workhr']-1)/(99 - 1)\n",
        "\n",
        "df"
      ]
    },
    {
      "cell_type": "code",
      "execution_count": null,
      "metadata": {
        "colab": {
          "base_uri": "https://localhost:8080/",
          "height": 300
        },
        "id": "XH3Czd_23DLo",
        "outputId": "078aad18-3b0e-449e-dd24-c4582152b4a7"
      },
      "outputs": [
        {
          "data": {
            "application/vnd.google.colaboratory.intrinsic+json": {
              "summary": "{\n  \"name\": \"#It can clearly be seen that all the columns have been normalized to the range 0-1\",\n  \"rows\": 8,\n  \"fields\": [\n    {\n      \"column\": \"age\",\n      \"properties\": {\n        \"dtype\": \"number\",\n        \"std\": 11511.93418082204,\n        \"min\": 0.0,\n        \"max\": 32561.0,\n        \"num_unique_values\": 8,\n        \"samples\": [\n          0.2956389966482299,\n          0.273972602739726,\n          32561.0\n        ],\n        \"semantic_type\": \"\",\n        \"description\": \"\"\n      }\n    },\n    {\n      \"column\": \"fnlwgt\",\n      \"properties\": {\n        \"dtype\": \"number\",\n        \"std\": 11511.974711886045,\n        \"min\": 0.0,\n        \"max\": 32561.0,\n        \"num_unique_values\": 8,\n        \"samples\": [\n          0.12054533795526073,\n          0.11278779152687413,\n          32561.0\n        ],\n        \"semantic_type\": \"\",\n        \"description\": \"\"\n      }\n    },\n    {\n      \"column\": \"yredu\",\n      \"properties\": {\n        \"dtype\": \"number\",\n        \"std\": 11511.86792776772,\n        \"min\": 0.0,\n        \"max\": 32561.0,\n        \"num_unique_values\": 8,\n        \"samples\": [\n          0.6053786226876733,\n          0.6,\n          32561.0\n        ],\n        \"semantic_type\": \"\",\n        \"description\": \"\"\n      }\n    },\n    {\n      \"column\": \"capgain\",\n      \"properties\": {\n        \"dtype\": \"number\",\n        \"std\": 11511.997174203463,\n        \"min\": 0.0,\n        \"max\": 32561.0,\n        \"num_unique_values\": 5,\n        \"samples\": [\n          0.010776596203049342,\n          1.0,\n          0.07385365938499726\n        ],\n        \"semantic_type\": \"\",\n        \"description\": \"\"\n      }\n    },\n    {\n      \"column\": \"caploss\",\n      \"properties\": {\n        \"dtype\": \"number\",\n        \"std\": 11511.995764053574,\n        \"min\": 0.0,\n        \"max\": 32561.0,\n        \"num_unique_values\": 5,\n        \"samples\": [\n          0.020042201500220156,\n          1.0,\n          0.09250693724724511\n        ],\n        \"semantic_type\": \"\",\n        \"description\": \"\"\n      }\n    },\n    {\n      \"column\": \"workhr\",\n      \"properties\": {\n        \"dtype\": \"number\",\n        \"std\": 11511.911881246553,\n        \"min\": 0.0,\n        \"max\": 32561.0,\n        \"num_unique_values\": 7,\n        \"samples\": [\n          32561.0,\n          0.40242301889890814,\n          0.4489795918367347\n        ],\n        \"semantic_type\": \"\",\n        \"description\": \"\"\n      }\n    }\n  ]\n}",
              "type": "dataframe"
            },
            "text/html": [
              "\n",
              "  <div id=\"df-5600f88a-b93c-472d-b317-3763c4d2da0a\" class=\"colab-df-container\">\n",
              "    <div>\n",
              "<style scoped>\n",
              "    .dataframe tbody tr th:only-of-type {\n",
              "        vertical-align: middle;\n",
              "    }\n",
              "\n",
              "    .dataframe tbody tr th {\n",
              "        vertical-align: top;\n",
              "    }\n",
              "\n",
              "    .dataframe thead th {\n",
              "        text-align: right;\n",
              "    }\n",
              "</style>\n",
              "<table border=\"1\" class=\"dataframe\">\n",
              "  <thead>\n",
              "    <tr style=\"text-align: right;\">\n",
              "      <th></th>\n",
              "      <th>age</th>\n",
              "      <th>fnlwgt</th>\n",
              "      <th>yredu</th>\n",
              "      <th>capgain</th>\n",
              "      <th>caploss</th>\n",
              "      <th>workhr</th>\n",
              "    </tr>\n",
              "  </thead>\n",
              "  <tbody>\n",
              "    <tr>\n",
              "      <th>count</th>\n",
              "      <td>32561.000000</td>\n",
              "      <td>32561.000000</td>\n",
              "      <td>32561.000000</td>\n",
              "      <td>32561.000000</td>\n",
              "      <td>32561.000000</td>\n",
              "      <td>32561.000000</td>\n",
              "    </tr>\n",
              "    <tr>\n",
              "      <th>mean</th>\n",
              "      <td>0.295639</td>\n",
              "      <td>0.120545</td>\n",
              "      <td>0.605379</td>\n",
              "      <td>0.010777</td>\n",
              "      <td>0.020042</td>\n",
              "      <td>0.402423</td>\n",
              "    </tr>\n",
              "    <tr>\n",
              "      <th>std</th>\n",
              "      <td>0.186855</td>\n",
              "      <td>0.071685</td>\n",
              "      <td>0.171515</td>\n",
              "      <td>0.073854</td>\n",
              "      <td>0.092507</td>\n",
              "      <td>0.125994</td>\n",
              "    </tr>\n",
              "    <tr>\n",
              "      <th>min</th>\n",
              "      <td>0.000000</td>\n",
              "      <td>0.000000</td>\n",
              "      <td>0.000000</td>\n",
              "      <td>0.000000</td>\n",
              "      <td>0.000000</td>\n",
              "      <td>0.000000</td>\n",
              "    </tr>\n",
              "    <tr>\n",
              "      <th>25%</th>\n",
              "      <td>0.150685</td>\n",
              "      <td>0.071679</td>\n",
              "      <td>0.533333</td>\n",
              "      <td>0.000000</td>\n",
              "      <td>0.000000</td>\n",
              "      <td>0.397959</td>\n",
              "    </tr>\n",
              "    <tr>\n",
              "      <th>50%</th>\n",
              "      <td>0.273973</td>\n",
              "      <td>0.112788</td>\n",
              "      <td>0.600000</td>\n",
              "      <td>0.000000</td>\n",
              "      <td>0.000000</td>\n",
              "      <td>0.397959</td>\n",
              "    </tr>\n",
              "    <tr>\n",
              "      <th>75%</th>\n",
              "      <td>0.424658</td>\n",
              "      <td>0.152651</td>\n",
              "      <td>0.733333</td>\n",
              "      <td>0.000000</td>\n",
              "      <td>0.000000</td>\n",
              "      <td>0.448980</td>\n",
              "    </tr>\n",
              "    <tr>\n",
              "      <th>max</th>\n",
              "      <td>1.000000</td>\n",
              "      <td>1.000000</td>\n",
              "      <td>1.000000</td>\n",
              "      <td>1.000000</td>\n",
              "      <td>1.000000</td>\n",
              "      <td>1.000000</td>\n",
              "    </tr>\n",
              "  </tbody>\n",
              "</table>\n",
              "</div>\n",
              "    <div class=\"colab-df-buttons\">\n",
              "\n",
              "  <div class=\"colab-df-container\">\n",
              "    <button class=\"colab-df-convert\" onclick=\"convertToInteractive('df-5600f88a-b93c-472d-b317-3763c4d2da0a')\"\n",
              "            title=\"Convert this dataframe to an interactive table.\"\n",
              "            style=\"display:none;\">\n",
              "\n",
              "  <svg xmlns=\"http://www.w3.org/2000/svg\" height=\"24px\" viewBox=\"0 -960 960 960\">\n",
              "    <path d=\"M120-120v-720h720v720H120Zm60-500h600v-160H180v160Zm220 220h160v-160H400v160Zm0 220h160v-160H400v160ZM180-400h160v-160H180v160Zm440 0h160v-160H620v160ZM180-180h160v-160H180v160Zm440 0h160v-160H620v160Z\"/>\n",
              "  </svg>\n",
              "    </button>\n",
              "\n",
              "  <style>\n",
              "    .colab-df-container {\n",
              "      display:flex;\n",
              "      gap: 12px;\n",
              "    }\n",
              "\n",
              "    .colab-df-convert {\n",
              "      background-color: #E8F0FE;\n",
              "      border: none;\n",
              "      border-radius: 50%;\n",
              "      cursor: pointer;\n",
              "      display: none;\n",
              "      fill: #1967D2;\n",
              "      height: 32px;\n",
              "      padding: 0 0 0 0;\n",
              "      width: 32px;\n",
              "    }\n",
              "\n",
              "    .colab-df-convert:hover {\n",
              "      background-color: #E2EBFA;\n",
              "      box-shadow: 0px 1px 2px rgba(60, 64, 67, 0.3), 0px 1px 3px 1px rgba(60, 64, 67, 0.15);\n",
              "      fill: #174EA6;\n",
              "    }\n",
              "\n",
              "    .colab-df-buttons div {\n",
              "      margin-bottom: 4px;\n",
              "    }\n",
              "\n",
              "    [theme=dark] .colab-df-convert {\n",
              "      background-color: #3B4455;\n",
              "      fill: #D2E3FC;\n",
              "    }\n",
              "\n",
              "    [theme=dark] .colab-df-convert:hover {\n",
              "      background-color: #434B5C;\n",
              "      box-shadow: 0px 1px 3px 1px rgba(0, 0, 0, 0.15);\n",
              "      filter: drop-shadow(0px 1px 2px rgba(0, 0, 0, 0.3));\n",
              "      fill: #FFFFFF;\n",
              "    }\n",
              "  </style>\n",
              "\n",
              "    <script>\n",
              "      const buttonEl =\n",
              "        document.querySelector('#df-5600f88a-b93c-472d-b317-3763c4d2da0a button.colab-df-convert');\n",
              "      buttonEl.style.display =\n",
              "        google.colab.kernel.accessAllowed ? 'block' : 'none';\n",
              "\n",
              "      async function convertToInteractive(key) {\n",
              "        const element = document.querySelector('#df-5600f88a-b93c-472d-b317-3763c4d2da0a');\n",
              "        const dataTable =\n",
              "          await google.colab.kernel.invokeFunction('convertToInteractive',\n",
              "                                                    [key], {});\n",
              "        if (!dataTable) return;\n",
              "\n",
              "        const docLinkHtml = 'Like what you see? Visit the ' +\n",
              "          '<a target=\"_blank\" href=https://colab.research.google.com/notebooks/data_table.ipynb>data table notebook</a>'\n",
              "          + ' to learn more about interactive tables.';\n",
              "        element.innerHTML = '';\n",
              "        dataTable['output_type'] = 'display_data';\n",
              "        await google.colab.output.renderOutput(dataTable, element);\n",
              "        const docLink = document.createElement('div');\n",
              "        docLink.innerHTML = docLinkHtml;\n",
              "        element.appendChild(docLink);\n",
              "      }\n",
              "    </script>\n",
              "  </div>\n",
              "\n",
              "\n",
              "<div id=\"df-27ac1ffc-2ec5-46c6-bdf6-90c79937a874\">\n",
              "  <button class=\"colab-df-quickchart\" onclick=\"quickchart('df-27ac1ffc-2ec5-46c6-bdf6-90c79937a874')\"\n",
              "            title=\"Suggest charts\"\n",
              "            style=\"display:none;\">\n",
              "\n",
              "<svg xmlns=\"http://www.w3.org/2000/svg\" height=\"24px\"viewBox=\"0 0 24 24\"\n",
              "     width=\"24px\">\n",
              "    <g>\n",
              "        <path d=\"M19 3H5c-1.1 0-2 .9-2 2v14c0 1.1.9 2 2 2h14c1.1 0 2-.9 2-2V5c0-1.1-.9-2-2-2zM9 17H7v-7h2v7zm4 0h-2V7h2v10zm4 0h-2v-4h2v4z\"/>\n",
              "    </g>\n",
              "</svg>\n",
              "  </button>\n",
              "\n",
              "<style>\n",
              "  .colab-df-quickchart {\n",
              "      --bg-color: #E8F0FE;\n",
              "      --fill-color: #1967D2;\n",
              "      --hover-bg-color: #E2EBFA;\n",
              "      --hover-fill-color: #174EA6;\n",
              "      --disabled-fill-color: #AAA;\n",
              "      --disabled-bg-color: #DDD;\n",
              "  }\n",
              "\n",
              "  [theme=dark] .colab-df-quickchart {\n",
              "      --bg-color: #3B4455;\n",
              "      --fill-color: #D2E3FC;\n",
              "      --hover-bg-color: #434B5C;\n",
              "      --hover-fill-color: #FFFFFF;\n",
              "      --disabled-bg-color: #3B4455;\n",
              "      --disabled-fill-color: #666;\n",
              "  }\n",
              "\n",
              "  .colab-df-quickchart {\n",
              "    background-color: var(--bg-color);\n",
              "    border: none;\n",
              "    border-radius: 50%;\n",
              "    cursor: pointer;\n",
              "    display: none;\n",
              "    fill: var(--fill-color);\n",
              "    height: 32px;\n",
              "    padding: 0;\n",
              "    width: 32px;\n",
              "  }\n",
              "\n",
              "  .colab-df-quickchart:hover {\n",
              "    background-color: var(--hover-bg-color);\n",
              "    box-shadow: 0 1px 2px rgba(60, 64, 67, 0.3), 0 1px 3px 1px rgba(60, 64, 67, 0.15);\n",
              "    fill: var(--button-hover-fill-color);\n",
              "  }\n",
              "\n",
              "  .colab-df-quickchart-complete:disabled,\n",
              "  .colab-df-quickchart-complete:disabled:hover {\n",
              "    background-color: var(--disabled-bg-color);\n",
              "    fill: var(--disabled-fill-color);\n",
              "    box-shadow: none;\n",
              "  }\n",
              "\n",
              "  .colab-df-spinner {\n",
              "    border: 2px solid var(--fill-color);\n",
              "    border-color: transparent;\n",
              "    border-bottom-color: var(--fill-color);\n",
              "    animation:\n",
              "      spin 1s steps(1) infinite;\n",
              "  }\n",
              "\n",
              "  @keyframes spin {\n",
              "    0% {\n",
              "      border-color: transparent;\n",
              "      border-bottom-color: var(--fill-color);\n",
              "      border-left-color: var(--fill-color);\n",
              "    }\n",
              "    20% {\n",
              "      border-color: transparent;\n",
              "      border-left-color: var(--fill-color);\n",
              "      border-top-color: var(--fill-color);\n",
              "    }\n",
              "    30% {\n",
              "      border-color: transparent;\n",
              "      border-left-color: var(--fill-color);\n",
              "      border-top-color: var(--fill-color);\n",
              "      border-right-color: var(--fill-color);\n",
              "    }\n",
              "    40% {\n",
              "      border-color: transparent;\n",
              "      border-right-color: var(--fill-color);\n",
              "      border-top-color: var(--fill-color);\n",
              "    }\n",
              "    60% {\n",
              "      border-color: transparent;\n",
              "      border-right-color: var(--fill-color);\n",
              "    }\n",
              "    80% {\n",
              "      border-color: transparent;\n",
              "      border-right-color: var(--fill-color);\n",
              "      border-bottom-color: var(--fill-color);\n",
              "    }\n",
              "    90% {\n",
              "      border-color: transparent;\n",
              "      border-bottom-color: var(--fill-color);\n",
              "    }\n",
              "  }\n",
              "</style>\n",
              "\n",
              "  <script>\n",
              "    async function quickchart(key) {\n",
              "      const quickchartButtonEl =\n",
              "        document.querySelector('#' + key + ' button');\n",
              "      quickchartButtonEl.disabled = true;  // To prevent multiple clicks.\n",
              "      quickchartButtonEl.classList.add('colab-df-spinner');\n",
              "      try {\n",
              "        const charts = await google.colab.kernel.invokeFunction(\n",
              "            'suggestCharts', [key], {});\n",
              "      } catch (error) {\n",
              "        console.error('Error during call to suggestCharts:', error);\n",
              "      }\n",
              "      quickchartButtonEl.classList.remove('colab-df-spinner');\n",
              "      quickchartButtonEl.classList.add('colab-df-quickchart-complete');\n",
              "    }\n",
              "    (() => {\n",
              "      let quickchartButtonEl =\n",
              "        document.querySelector('#df-27ac1ffc-2ec5-46c6-bdf6-90c79937a874 button');\n",
              "      quickchartButtonEl.style.display =\n",
              "        google.colab.kernel.accessAllowed ? 'block' : 'none';\n",
              "    })();\n",
              "  </script>\n",
              "</div>\n",
              "\n",
              "    </div>\n",
              "  </div>\n"
            ],
            "text/plain": [
              "                age        fnlwgt         yredu       capgain       caploss  \\\n",
              "count  32561.000000  32561.000000  32561.000000  32561.000000  32561.000000   \n",
              "mean       0.295639      0.120545      0.605379      0.010777      0.020042   \n",
              "std        0.186855      0.071685      0.171515      0.073854      0.092507   \n",
              "min        0.000000      0.000000      0.000000      0.000000      0.000000   \n",
              "25%        0.150685      0.071679      0.533333      0.000000      0.000000   \n",
              "50%        0.273973      0.112788      0.600000      0.000000      0.000000   \n",
              "75%        0.424658      0.152651      0.733333      0.000000      0.000000   \n",
              "max        1.000000      1.000000      1.000000      1.000000      1.000000   \n",
              "\n",
              "             workhr  \n",
              "count  32561.000000  \n",
              "mean       0.402423  \n",
              "std        0.125994  \n",
              "min        0.000000  \n",
              "25%        0.397959  \n",
              "50%        0.397959  \n",
              "75%        0.448980  \n",
              "max        1.000000  "
            ]
          },
          "execution_count": 11,
          "metadata": {},
          "output_type": "execute_result"
        }
      ],
      "source": [
        "df.describe()\n",
        "#It can clearly be seen that all the columns have been normalized to the range 0-1"
      ]
    },
    {
      "cell_type": "markdown",
      "metadata": {
        "id": "qbfMly4R1pqK"
      },
      "source": [
        "### Part (b) Categorical Features [1 pt]\n",
        "\n",
        "What percentage of people in our data set are male? Note that the data labels all have an unfortunate space in the beginning, e.g. \" Male\" instead of \"Male\".\n",
        "\n",
        "What percentage of people in our data set are female?"
      ]
    },
    {
      "cell_type": "code",
      "execution_count": null,
      "metadata": {
        "colab": {
          "base_uri": "https://localhost:8080/"
        },
        "id": "DjAjcsB_1pqK",
        "outputId": "73cbf6c2-a388-49ee-a3da-838b4bbaed52"
      },
      "outputs": [
        {
          "name": "stdout",
          "output_type": "stream",
          "text": [
            "Percentage of Males  66.92054912318417\n",
            "Percentage of Females  33.07945087681582\n"
          ]
        }
      ],
      "source": [
        "# hint: you can do something like this in pandas\n",
        "male_percentage = sum(df[\"sex\"] == \" Male\") * 100/len(df['sex'])\n",
        "female_percentage = sum(df['sex'] == ' Female')* 100/len(df['sex'])\n",
        "\n",
        "print(\"Percentage of Males \", male_percentage)\n",
        "print(\"Percentage of Females \", female_percentage)"
      ]
    },
    {
      "cell_type": "markdown",
      "metadata": {
        "id": "eGVw7pqL1pqN"
      },
      "source": [
        "### Part (c) [2 pt]\n",
        "\n",
        "Before proceeding, we will modify our data frame in a couple more ways:\n",
        "\n",
        "1. We will restrict ourselves to using a subset of the features (to simplify our autoencoder)\n",
        "2. We will remove any records (rows) already containing missing values, and store them in a second dataframe. We will only use records without missing values to train our autoencoder.\n",
        "\n",
        "Both of these steps are done for you, below.\n",
        "\n",
        "How many records contained missing features? What percentage of records were removed?"
      ]
    },
    {
      "cell_type": "code",
      "execution_count": null,
      "metadata": {
        "collapsed": true,
        "id": "z6ewPUdv1pqO"
      },
      "outputs": [],
      "source": [
        "contcols = [\"age\", \"yredu\", \"capgain\", \"caploss\", \"workhr\"]\n",
        "catcols = [\"work\", \"marriage\", \"occupation\", \"edu\", \"relationship\", \"sex\"]\n",
        "features = contcols + catcols\n",
        "df = df[features]"
      ]
    },
    {
      "cell_type": "code",
      "execution_count": null,
      "metadata": {
        "collapsed": true,
        "id": "fjdVll5a1pqQ"
      },
      "outputs": [],
      "source": [
        "missing = pd.concat([df[c] == \" ?\" for c in catcols], axis=1).any(axis=1)\n",
        "df_with_missing = df[missing]\n",
        "df_not_missing = df[~missing]"
      ]
    },
    {
      "cell_type": "code",
      "execution_count": null,
      "metadata": {
        "colab": {
          "base_uri": "https://localhost:8080/"
        },
        "id": "U5JBbvSH5cx2",
        "outputId": "a151b52a-9b27-48d7-ddf9-e12b9d5f500e"
      },
      "outputs": [
        {
          "name": "stdout",
          "output_type": "stream",
          "text": [
            "Total number of records  32561\n",
            "Number of records with missing data  1843\n",
            "Number of records with no missing data  30718\n"
          ]
        }
      ],
      "source": [
        "print('Total number of records ', len(df))\n",
        "print('Number of records with missing data ', len(df_with_missing))\n",
        "print('Number of records with no missing data ', len(df_not_missing))"
      ]
    },
    {
      "cell_type": "code",
      "execution_count": null,
      "metadata": {
        "colab": {
          "base_uri": "https://localhost:8080/"
        },
        "id": "yFEY_gqn5XNq",
        "outputId": "0ca2cb00-b5ed-4373-9203-3f68befff963"
      },
      "outputs": [
        {
          "name": "stdout",
          "output_type": "stream",
          "text": [
            "Percentage of records removed  5.660145572924664\n"
          ]
        }
      ],
      "source": [
        "print('Percentage of records removed ', (len(df_with_missing)*100/len(df)))"
      ]
    },
    {
      "cell_type": "markdown",
      "metadata": {
        "id": "XuEpndTQ1pqU"
      },
      "source": [
        "### Part (d) One-Hot Encoding [1 pt]\n",
        "\n",
        "What are all the possible values of the feature \"work\" in `df_not_missing`? You may find the Python function `set` useful."
      ]
    },
    {
      "cell_type": "code",
      "execution_count": null,
      "metadata": {
        "colab": {
          "base_uri": "https://localhost:8080/"
        },
        "id": "iKFh4owE1pqV",
        "outputId": "cfb3fa11-1d6f-4970-fffd-8ffd77d93880"
      },
      "outputs": [
        {
          "data": {
            "text/plain": [
              "array([' State-gov', ' Self-emp-not-inc', ' Private', ' Federal-gov',\n",
              "       ' Local-gov', ' ?', ' Self-emp-inc', ' Without-pay',\n",
              "       ' Never-worked'], dtype=object)"
            ]
          },
          "execution_count": 17,
          "metadata": {},
          "output_type": "execute_result"
        }
      ],
      "source": [
        "df['work'].unique() #Returns an array of all possible values of \"work\""
      ]
    },
    {
      "cell_type": "markdown",
      "metadata": {
        "id": "COv3HaKr1pqY"
      },
      "source": [
        "We will be using a one-hot encoding to represent each of the categorical variables.\n",
        "Our autoencoder will be trained using these one-hot encodings.\n",
        "\n",
        "We will use the pandas function `get_dummies` to produce one-hot encodings\n",
        "for all of the categorical variables in `df_not_missing`."
      ]
    },
    {
      "cell_type": "code",
      "execution_count": null,
      "metadata": {
        "collapsed": true,
        "id": "eKlSYmJg1pqZ"
      },
      "outputs": [],
      "source": [
        "data = pd.get_dummies(df_not_missing)"
      ]
    },
    {
      "cell_type": "code",
      "execution_count": null,
      "metadata": {
        "colab": {
          "base_uri": "https://localhost:8080/",
          "height": 262
        },
        "id": "3y7nTZ7H1pqb",
        "outputId": "220bacb5-d3f3-4125-d9a8-657ec816782c",
        "scrolled": true
      },
      "outputs": [
        {
          "data": {
            "application/vnd.google.colaboratory.intrinsic+json": {
              "type": "dataframe"
            },
            "text/html": [
              "\n",
              "  <div id=\"df-699555b4-b7b8-455e-a73c-3b3e19d9c210\" class=\"colab-df-container\">\n",
              "    <div>\n",
              "<style scoped>\n",
              "    .dataframe tbody tr th:only-of-type {\n",
              "        vertical-align: middle;\n",
              "    }\n",
              "\n",
              "    .dataframe tbody tr th {\n",
              "        vertical-align: top;\n",
              "    }\n",
              "\n",
              "    .dataframe thead th {\n",
              "        text-align: right;\n",
              "    }\n",
              "</style>\n",
              "<table border=\"1\" class=\"dataframe\">\n",
              "  <thead>\n",
              "    <tr style=\"text-align: right;\">\n",
              "      <th></th>\n",
              "      <th>age</th>\n",
              "      <th>yredu</th>\n",
              "      <th>capgain</th>\n",
              "      <th>caploss</th>\n",
              "      <th>workhr</th>\n",
              "      <th>work_ Federal-gov</th>\n",
              "      <th>work_ Local-gov</th>\n",
              "      <th>work_ Private</th>\n",
              "      <th>work_ Self-emp-inc</th>\n",
              "      <th>work_ Self-emp-not-inc</th>\n",
              "      <th>...</th>\n",
              "      <th>edu_ Prof-school</th>\n",
              "      <th>edu_ Some-college</th>\n",
              "      <th>relationship_ Husband</th>\n",
              "      <th>relationship_ Not-in-family</th>\n",
              "      <th>relationship_ Other-relative</th>\n",
              "      <th>relationship_ Own-child</th>\n",
              "      <th>relationship_ Unmarried</th>\n",
              "      <th>relationship_ Wife</th>\n",
              "      <th>sex_ Female</th>\n",
              "      <th>sex_ Male</th>\n",
              "    </tr>\n",
              "  </thead>\n",
              "  <tbody>\n",
              "    <tr>\n",
              "      <th>0</th>\n",
              "      <td>0.301370</td>\n",
              "      <td>0.800000</td>\n",
              "      <td>0.02174</td>\n",
              "      <td>0.0</td>\n",
              "      <td>0.397959</td>\n",
              "      <td>False</td>\n",
              "      <td>False</td>\n",
              "      <td>False</td>\n",
              "      <td>False</td>\n",
              "      <td>False</td>\n",
              "      <td>...</td>\n",
              "      <td>False</td>\n",
              "      <td>False</td>\n",
              "      <td>False</td>\n",
              "      <td>True</td>\n",
              "      <td>False</td>\n",
              "      <td>False</td>\n",
              "      <td>False</td>\n",
              "      <td>False</td>\n",
              "      <td>False</td>\n",
              "      <td>True</td>\n",
              "    </tr>\n",
              "    <tr>\n",
              "      <th>1</th>\n",
              "      <td>0.452055</td>\n",
              "      <td>0.800000</td>\n",
              "      <td>0.00000</td>\n",
              "      <td>0.0</td>\n",
              "      <td>0.122449</td>\n",
              "      <td>False</td>\n",
              "      <td>False</td>\n",
              "      <td>False</td>\n",
              "      <td>False</td>\n",
              "      <td>True</td>\n",
              "      <td>...</td>\n",
              "      <td>False</td>\n",
              "      <td>False</td>\n",
              "      <td>True</td>\n",
              "      <td>False</td>\n",
              "      <td>False</td>\n",
              "      <td>False</td>\n",
              "      <td>False</td>\n",
              "      <td>False</td>\n",
              "      <td>False</td>\n",
              "      <td>True</td>\n",
              "    </tr>\n",
              "    <tr>\n",
              "      <th>2</th>\n",
              "      <td>0.287671</td>\n",
              "      <td>0.533333</td>\n",
              "      <td>0.00000</td>\n",
              "      <td>0.0</td>\n",
              "      <td>0.397959</td>\n",
              "      <td>False</td>\n",
              "      <td>False</td>\n",
              "      <td>True</td>\n",
              "      <td>False</td>\n",
              "      <td>False</td>\n",
              "      <td>...</td>\n",
              "      <td>False</td>\n",
              "      <td>False</td>\n",
              "      <td>False</td>\n",
              "      <td>True</td>\n",
              "      <td>False</td>\n",
              "      <td>False</td>\n",
              "      <td>False</td>\n",
              "      <td>False</td>\n",
              "      <td>False</td>\n",
              "      <td>True</td>\n",
              "    </tr>\n",
              "  </tbody>\n",
              "</table>\n",
              "<p>3 rows × 57 columns</p>\n",
              "</div>\n",
              "    <div class=\"colab-df-buttons\">\n",
              "\n",
              "  <div class=\"colab-df-container\">\n",
              "    <button class=\"colab-df-convert\" onclick=\"convertToInteractive('df-699555b4-b7b8-455e-a73c-3b3e19d9c210')\"\n",
              "            title=\"Convert this dataframe to an interactive table.\"\n",
              "            style=\"display:none;\">\n",
              "\n",
              "  <svg xmlns=\"http://www.w3.org/2000/svg\" height=\"24px\" viewBox=\"0 -960 960 960\">\n",
              "    <path d=\"M120-120v-720h720v720H120Zm60-500h600v-160H180v160Zm220 220h160v-160H400v160Zm0 220h160v-160H400v160ZM180-400h160v-160H180v160Zm440 0h160v-160H620v160ZM180-180h160v-160H180v160Zm440 0h160v-160H620v160Z\"/>\n",
              "  </svg>\n",
              "    </button>\n",
              "\n",
              "  <style>\n",
              "    .colab-df-container {\n",
              "      display:flex;\n",
              "      gap: 12px;\n",
              "    }\n",
              "\n",
              "    .colab-df-convert {\n",
              "      background-color: #E8F0FE;\n",
              "      border: none;\n",
              "      border-radius: 50%;\n",
              "      cursor: pointer;\n",
              "      display: none;\n",
              "      fill: #1967D2;\n",
              "      height: 32px;\n",
              "      padding: 0 0 0 0;\n",
              "      width: 32px;\n",
              "    }\n",
              "\n",
              "    .colab-df-convert:hover {\n",
              "      background-color: #E2EBFA;\n",
              "      box-shadow: 0px 1px 2px rgba(60, 64, 67, 0.3), 0px 1px 3px 1px rgba(60, 64, 67, 0.15);\n",
              "      fill: #174EA6;\n",
              "    }\n",
              "\n",
              "    .colab-df-buttons div {\n",
              "      margin-bottom: 4px;\n",
              "    }\n",
              "\n",
              "    [theme=dark] .colab-df-convert {\n",
              "      background-color: #3B4455;\n",
              "      fill: #D2E3FC;\n",
              "    }\n",
              "\n",
              "    [theme=dark] .colab-df-convert:hover {\n",
              "      background-color: #434B5C;\n",
              "      box-shadow: 0px 1px 3px 1px rgba(0, 0, 0, 0.15);\n",
              "      filter: drop-shadow(0px 1px 2px rgba(0, 0, 0, 0.3));\n",
              "      fill: #FFFFFF;\n",
              "    }\n",
              "  </style>\n",
              "\n",
              "    <script>\n",
              "      const buttonEl =\n",
              "        document.querySelector('#df-699555b4-b7b8-455e-a73c-3b3e19d9c210 button.colab-df-convert');\n",
              "      buttonEl.style.display =\n",
              "        google.colab.kernel.accessAllowed ? 'block' : 'none';\n",
              "\n",
              "      async function convertToInteractive(key) {\n",
              "        const element = document.querySelector('#df-699555b4-b7b8-455e-a73c-3b3e19d9c210');\n",
              "        const dataTable =\n",
              "          await google.colab.kernel.invokeFunction('convertToInteractive',\n",
              "                                                    [key], {});\n",
              "        if (!dataTable) return;\n",
              "\n",
              "        const docLinkHtml = 'Like what you see? Visit the ' +\n",
              "          '<a target=\"_blank\" href=https://colab.research.google.com/notebooks/data_table.ipynb>data table notebook</a>'\n",
              "          + ' to learn more about interactive tables.';\n",
              "        element.innerHTML = '';\n",
              "        dataTable['output_type'] = 'display_data';\n",
              "        await google.colab.output.renderOutput(dataTable, element);\n",
              "        const docLink = document.createElement('div');\n",
              "        docLink.innerHTML = docLinkHtml;\n",
              "        element.appendChild(docLink);\n",
              "      }\n",
              "    </script>\n",
              "  </div>\n",
              "\n",
              "\n",
              "<div id=\"df-1dedb211-de0f-4611-b8a1-cb1eb7954e7c\">\n",
              "  <button class=\"colab-df-quickchart\" onclick=\"quickchart('df-1dedb211-de0f-4611-b8a1-cb1eb7954e7c')\"\n",
              "            title=\"Suggest charts\"\n",
              "            style=\"display:none;\">\n",
              "\n",
              "<svg xmlns=\"http://www.w3.org/2000/svg\" height=\"24px\"viewBox=\"0 0 24 24\"\n",
              "     width=\"24px\">\n",
              "    <g>\n",
              "        <path d=\"M19 3H5c-1.1 0-2 .9-2 2v14c0 1.1.9 2 2 2h14c1.1 0 2-.9 2-2V5c0-1.1-.9-2-2-2zM9 17H7v-7h2v7zm4 0h-2V7h2v10zm4 0h-2v-4h2v4z\"/>\n",
              "    </g>\n",
              "</svg>\n",
              "  </button>\n",
              "\n",
              "<style>\n",
              "  .colab-df-quickchart {\n",
              "      --bg-color: #E8F0FE;\n",
              "      --fill-color: #1967D2;\n",
              "      --hover-bg-color: #E2EBFA;\n",
              "      --hover-fill-color: #174EA6;\n",
              "      --disabled-fill-color: #AAA;\n",
              "      --disabled-bg-color: #DDD;\n",
              "  }\n",
              "\n",
              "  [theme=dark] .colab-df-quickchart {\n",
              "      --bg-color: #3B4455;\n",
              "      --fill-color: #D2E3FC;\n",
              "      --hover-bg-color: #434B5C;\n",
              "      --hover-fill-color: #FFFFFF;\n",
              "      --disabled-bg-color: #3B4455;\n",
              "      --disabled-fill-color: #666;\n",
              "  }\n",
              "\n",
              "  .colab-df-quickchart {\n",
              "    background-color: var(--bg-color);\n",
              "    border: none;\n",
              "    border-radius: 50%;\n",
              "    cursor: pointer;\n",
              "    display: none;\n",
              "    fill: var(--fill-color);\n",
              "    height: 32px;\n",
              "    padding: 0;\n",
              "    width: 32px;\n",
              "  }\n",
              "\n",
              "  .colab-df-quickchart:hover {\n",
              "    background-color: var(--hover-bg-color);\n",
              "    box-shadow: 0 1px 2px rgba(60, 64, 67, 0.3), 0 1px 3px 1px rgba(60, 64, 67, 0.15);\n",
              "    fill: var(--button-hover-fill-color);\n",
              "  }\n",
              "\n",
              "  .colab-df-quickchart-complete:disabled,\n",
              "  .colab-df-quickchart-complete:disabled:hover {\n",
              "    background-color: var(--disabled-bg-color);\n",
              "    fill: var(--disabled-fill-color);\n",
              "    box-shadow: none;\n",
              "  }\n",
              "\n",
              "  .colab-df-spinner {\n",
              "    border: 2px solid var(--fill-color);\n",
              "    border-color: transparent;\n",
              "    border-bottom-color: var(--fill-color);\n",
              "    animation:\n",
              "      spin 1s steps(1) infinite;\n",
              "  }\n",
              "\n",
              "  @keyframes spin {\n",
              "    0% {\n",
              "      border-color: transparent;\n",
              "      border-bottom-color: var(--fill-color);\n",
              "      border-left-color: var(--fill-color);\n",
              "    }\n",
              "    20% {\n",
              "      border-color: transparent;\n",
              "      border-left-color: var(--fill-color);\n",
              "      border-top-color: var(--fill-color);\n",
              "    }\n",
              "    30% {\n",
              "      border-color: transparent;\n",
              "      border-left-color: var(--fill-color);\n",
              "      border-top-color: var(--fill-color);\n",
              "      border-right-color: var(--fill-color);\n",
              "    }\n",
              "    40% {\n",
              "      border-color: transparent;\n",
              "      border-right-color: var(--fill-color);\n",
              "      border-top-color: var(--fill-color);\n",
              "    }\n",
              "    60% {\n",
              "      border-color: transparent;\n",
              "      border-right-color: var(--fill-color);\n",
              "    }\n",
              "    80% {\n",
              "      border-color: transparent;\n",
              "      border-right-color: var(--fill-color);\n",
              "      border-bottom-color: var(--fill-color);\n",
              "    }\n",
              "    90% {\n",
              "      border-color: transparent;\n",
              "      border-bottom-color: var(--fill-color);\n",
              "    }\n",
              "  }\n",
              "</style>\n",
              "\n",
              "  <script>\n",
              "    async function quickchart(key) {\n",
              "      const quickchartButtonEl =\n",
              "        document.querySelector('#' + key + ' button');\n",
              "      quickchartButtonEl.disabled = true;  // To prevent multiple clicks.\n",
              "      quickchartButtonEl.classList.add('colab-df-spinner');\n",
              "      try {\n",
              "        const charts = await google.colab.kernel.invokeFunction(\n",
              "            'suggestCharts', [key], {});\n",
              "      } catch (error) {\n",
              "        console.error('Error during call to suggestCharts:', error);\n",
              "      }\n",
              "      quickchartButtonEl.classList.remove('colab-df-spinner');\n",
              "      quickchartButtonEl.classList.add('colab-df-quickchart-complete');\n",
              "    }\n",
              "    (() => {\n",
              "      let quickchartButtonEl =\n",
              "        document.querySelector('#df-1dedb211-de0f-4611-b8a1-cb1eb7954e7c button');\n",
              "      quickchartButtonEl.style.display =\n",
              "        google.colab.kernel.accessAllowed ? 'block' : 'none';\n",
              "    })();\n",
              "  </script>\n",
              "</div>\n",
              "\n",
              "    </div>\n",
              "  </div>\n"
            ],
            "text/plain": [
              "        age     yredu  capgain  caploss    workhr  work_ Federal-gov  \\\n",
              "0  0.301370  0.800000  0.02174      0.0  0.397959              False   \n",
              "1  0.452055  0.800000  0.00000      0.0  0.122449              False   \n",
              "2  0.287671  0.533333  0.00000      0.0  0.397959              False   \n",
              "\n",
              "   work_ Local-gov  work_ Private  work_ Self-emp-inc  work_ Self-emp-not-inc  \\\n",
              "0            False          False               False                   False   \n",
              "1            False          False               False                    True   \n",
              "2            False           True               False                   False   \n",
              "\n",
              "   ...  edu_ Prof-school  edu_ Some-college  relationship_ Husband  \\\n",
              "0  ...             False              False                  False   \n",
              "1  ...             False              False                   True   \n",
              "2  ...             False              False                  False   \n",
              "\n",
              "   relationship_ Not-in-family  relationship_ Other-relative  \\\n",
              "0                         True                         False   \n",
              "1                        False                         False   \n",
              "2                         True                         False   \n",
              "\n",
              "   relationship_ Own-child  relationship_ Unmarried  relationship_ Wife  \\\n",
              "0                    False                    False               False   \n",
              "1                    False                    False               False   \n",
              "2                    False                    False               False   \n",
              "\n",
              "   sex_ Female  sex_ Male  \n",
              "0        False       True  \n",
              "1        False       True  \n",
              "2        False       True  \n",
              "\n",
              "[3 rows x 57 columns]"
            ]
          },
          "execution_count": 19,
          "metadata": {},
          "output_type": "execute_result"
        }
      ],
      "source": [
        "data[:3]"
      ]
    },
    {
      "cell_type": "markdown",
      "metadata": {
        "id": "HwjDg1uM1pqe"
      },
      "source": [
        "### Part (e) One-Hot Encoding [2 pt]\n",
        "\n",
        "The dataframe `data` contains the cleaned and normalized data that we will use to train our denoising autoencoder.\n",
        "\n",
        "How many **columns** (features) are in the dataframe `data`?\n",
        "\n",
        "Briefly explain where that number come from.\n",
        "\n",
        "The number of columns increase from 14 to 57 as newer columns were added due to label encoding. For example, for \"work\" column, it was split into 9 columns for each of the different types of values in the \"work\" column. Thus, some columns containing categorial data were split into several columns for each unique label in that column."
      ]
    },
    {
      "cell_type": "code",
      "execution_count": null,
      "metadata": {
        "colab": {
          "base_uri": "https://localhost:8080/"
        },
        "id": "yjZ5N0Tl1pqf",
        "outputId": "994bcfa5-6d7e-4039-c375-8925675741a6"
      },
      "outputs": [
        {
          "name": "stdout",
          "output_type": "stream",
          "text": [
            "Number of columns in data  57\n"
          ]
        }
      ],
      "source": [
        "print('Number of columns in data ', len(data.columns))"
      ]
    },
    {
      "cell_type": "markdown",
      "metadata": {
        "id": "OEJ0Ci3l1pqh"
      },
      "source": [
        "### Part (f) One-Hot Conversion [3 pt]\n",
        "\n",
        "We will convert the pandas data frame `data` into numpy, so that\n",
        "it can be further converted into a PyTorch tensor.\n",
        "However, in doing so, we lose the column label information that\n",
        "a panda data frame automatically stores.\n",
        "\n",
        "Complete the function `get_categorical_value` that will return\n",
        "the named value of a feature given a one-hot embedding.\n",
        "You may find the global variables `cat_index` and `cat_values`\n",
        "useful. (Display them and figure out what they are first.)\n",
        "\n",
        "We will need this function in the next part of the lab\n",
        "to interpret our autoencoder outputs. So, the input\n",
        "to our function `get_categorical_values` might not\n",
        "actually be \"one-hot\" -- the input may instead\n",
        "contain real-valued predictions from our neural network."
      ]
    },
    {
      "cell_type": "code",
      "execution_count": null,
      "metadata": {
        "collapsed": true,
        "id": "ZmovX6gu1pqi"
      },
      "outputs": [],
      "source": [
        "datanp = data.values.astype(np.float32)"
      ]
    },
    {
      "cell_type": "code",
      "execution_count": null,
      "metadata": {
        "collapsed": true,
        "id": "YRIa5MBd1pql"
      },
      "outputs": [],
      "source": [
        "cat_index = {}  # Mapping of feature -> start index of feature in a record\n",
        "cat_values = {} # Mapping of feature -> list of categorical values the feature can take\n",
        "\n",
        "# build up the cat_index and cat_values dictionary\n",
        "for i, header in enumerate(data.keys()):\n",
        "    if \"_\" in header: # categorical header\n",
        "        feature, value = header.split()\n",
        "        feature = feature[:-1] # remove the last char; it is always an underscore\n",
        "        if feature not in cat_index:\n",
        "            cat_index[feature] = i\n",
        "            cat_values[feature] = [value]\n",
        "        else:\n",
        "            cat_values[feature].append(value)\n",
        "\n",
        "def get_onehot(record, feature):\n",
        "    \"\"\"\n",
        "    Return the portion of `record` that is the one-hot encoding\n",
        "    of `feature`. For example, since the feature \"work\" is stored\n",
        "    in the indices [5:12] in each record, calling `get_range(record, \"work\")`\n",
        "    is equivalent to accessing `record[5:12]`.\n",
        "\n",
        "    Args:\n",
        "        - record: a numpy array representing one record, formatted\n",
        "                  the same way as a row in `data.np`\n",
        "        - feature: a string, should be an element of `catcols`\n",
        "    \"\"\"\n",
        "    start_index = cat_index[feature]\n",
        "    stop_index = cat_index[feature] + len(cat_values[feature])\n",
        "    return record[start_index:stop_index]\n",
        "\n",
        "def get_categorical_value(onehot, feature):\n",
        "    \"\"\"\n",
        "    Return the categorical value name of a feature given\n",
        "    a one-hot vector representing the feature.\n",
        "\n",
        "    Args:\n",
        "        - onehot: a numpy array one-hot representation of the feature\n",
        "        - feature: a string, should be an element of `catcols`\n",
        "\n",
        "    Examples:\n",
        "\n",
        "    >>> get_categorical_value(np.array([0., 0., 0., 0., 0., 1., 0.]), \"work\")\n",
        "    'State-gov'\n",
        "    >>> get_categorical_value(np.array([0.1, 0., 1.1, 0.2, 0., 1., 0.]), \"work\")\n",
        "    'Private'\n",
        "    \"\"\"\n",
        "    # <----- TODO: WRITE YOUR CODE HERE ----->\n",
        "    # You may find the variables `cat_index` and `cat_values`\n",
        "    # (created above) useful.\n",
        "    categorical = cat_values[feature]\n",
        "    max = onehot[0]\n",
        "    maxi = 0\n",
        "    for i in range(len(onehot)):\n",
        "      if onehot[i] > max:\n",
        "        max = onehot[i]\n",
        "        maxi = i\n",
        "    return categorical[maxi]"
      ]
    },
    {
      "cell_type": "code",
      "execution_count": null,
      "metadata": {
        "collapsed": true,
        "id": "T_XXxZdh1pqv"
      },
      "outputs": [],
      "source": [
        "# more useful code, used during training, that depends on the function\n",
        "# you write above\n",
        "\n",
        "def get_feature(record, feature):\n",
        "    \"\"\"\n",
        "    Return the categorical feature value of a record\n",
        "    \"\"\"\n",
        "    onehot = get_onehot(record, feature)\n",
        "    return get_categorical_value(onehot, feature)\n",
        "\n",
        "def get_features(record):\n",
        "    \"\"\"\n",
        "    Return a dictionary of all categorical feature values of a record\n",
        "    \"\"\"\n",
        "    return { f: get_feature(record, f) for f in catcols }"
      ]
    },
    {
      "cell_type": "code",
      "execution_count": null,
      "metadata": {
        "colab": {
          "base_uri": "https://localhost:8080/",
          "height": 35
        },
        "id": "GU-HdEEHDb7V",
        "outputId": "8e30b41e-3919-4e57-904c-803f42a993ec"
      },
      "outputs": [
        {
          "data": {
            "application/vnd.google.colaboratory.intrinsic+json": {
              "type": "string"
            },
            "text/plain": [
              "'State-gov'"
            ]
          },
          "execution_count": 24,
          "metadata": {},
          "output_type": "execute_result"
        }
      ],
      "source": [
        "#Testing function get_categorical_value()\n",
        "get_categorical_value(np.array([0., 0., 0., 0., 0., 1., 0.]), \"work\")"
      ]
    },
    {
      "cell_type": "code",
      "execution_count": null,
      "metadata": {
        "colab": {
          "base_uri": "https://localhost:8080/",
          "height": 35
        },
        "id": "RYd2sioYDjgy",
        "outputId": "ac05fe07-48fd-4bdd-cc61-ae9e396bd6cb"
      },
      "outputs": [
        {
          "data": {
            "application/vnd.google.colaboratory.intrinsic+json": {
              "type": "string"
            },
            "text/plain": [
              "'Private'"
            ]
          },
          "execution_count": 25,
          "metadata": {},
          "output_type": "execute_result"
        }
      ],
      "source": [
        "#Testing function get_categorical_value()\n",
        "get_categorical_value(np.array([0.1, 0., 1.1, 0.2, 0., 1., 0.]), \"work\")"
      ]
    },
    {
      "cell_type": "code",
      "execution_count": null,
      "metadata": {
        "colab": {
          "base_uri": "https://localhost:8080/"
        },
        "id": "nk5sNNsfdXKW",
        "outputId": "8edf9172-32e6-4439-c2b1-3ab0f028cc04"
      },
      "outputs": [
        {
          "data": {
            "text/plain": [
              "{'work': 5,\n",
              " 'marriage': 12,\n",
              " 'occupation': 19,\n",
              " 'edu': 33,\n",
              " 'relationship': 49,\n",
              " 'sex': 55}"
            ]
          },
          "execution_count": 65,
          "metadata": {},
          "output_type": "execute_result"
        }
      ],
      "source": [
        "cat_index"
      ]
    },
    {
      "cell_type": "markdown",
      "metadata": {
        "id": "1_5ZZR_J1pqy"
      },
      "source": [
        "### Part (g) Train/Test Split [3 pt]\n",
        "\n",
        "Randomly split the data into approximately 70% training, 15% validation and 15% test.\n",
        "\n",
        "Report the number of items in your training, validation, and test set."
      ]
    },
    {
      "cell_type": "code",
      "execution_count": null,
      "metadata": {
        "collapsed": true,
        "id": "TE_fTJJf1pqz"
      },
      "outputs": [],
      "source": [
        "# set the numpy seed for reproducibility\n",
        "# https://docs.scipy.org/doc/numpy/reference/generated/numpy.random.seed.html\n",
        "np.random.seed(50)"
      ]
    },
    {
      "cell_type": "code",
      "execution_count": null,
      "metadata": {
        "colab": {
          "base_uri": "https://localhost:8080/"
        },
        "id": "aD5pSgv5EJz-",
        "outputId": "c32182dd-5eeb-4762-f044-f67bfd7d14e5"
      },
      "outputs": [
        {
          "name": "stdout",
          "output_type": "stream",
          "text": [
            "Length of training data  21502\n",
            "Length of validation data 4607\n",
            "Length of test data 4609\n"
          ]
        }
      ],
      "source": [
        "#Calculating the length of train, validation and test datasets\n",
        "data_len = len(datanp)\n",
        "train_len = int(0.7 * data_len)\n",
        "val_len = int(0.15 * data_len)\n",
        "test_len = data_len - train_len - val_len\n",
        "\n",
        "print('Length of training data ', train_len)\n",
        "print('Length of validation data', val_len)\n",
        "print('Length of test data', test_len)"
      ]
    },
    {
      "cell_type": "code",
      "execution_count": null,
      "metadata": {
        "id": "2oGBKGe6EnYi"
      },
      "outputs": [],
      "source": [
        "data_shuffled = datanp\n",
        "np.random.shuffle(data_shuffled) #Shuffle the rows (each sample)\n",
        "train_data = data_shuffled[:train_len]\n",
        "val_data = data_shuffled[train_len:train_len+val_len]\n",
        "test_data = data_shuffled[train_len+val_len:]"
      ]
    },
    {
      "cell_type": "code",
      "execution_count": null,
      "metadata": {
        "colab": {
          "base_uri": "https://localhost:8080/"
        },
        "id": "64gLntt1GvoG",
        "outputId": "606446ea-6308-4c25-ca39-7530ffca2176"
      },
      "outputs": [
        {
          "data": {
            "text/plain": [
              "21502"
            ]
          },
          "execution_count": 29,
          "metadata": {},
          "output_type": "execute_result"
        }
      ],
      "source": [
        "len(train_data) #Training Data Length"
      ]
    },
    {
      "cell_type": "code",
      "execution_count": null,
      "metadata": {
        "colab": {
          "base_uri": "https://localhost:8080/"
        },
        "id": "ozHlaLPLG1t_",
        "outputId": "5ee2d692-fac1-4d9b-e6af-79b72c89e7b1"
      },
      "outputs": [
        {
          "data": {
            "text/plain": [
              "4609"
            ]
          },
          "execution_count": 30,
          "metadata": {},
          "output_type": "execute_result"
        }
      ],
      "source": [
        "len(test_data) #Test Data Length"
      ]
    },
    {
      "cell_type": "code",
      "execution_count": null,
      "metadata": {
        "colab": {
          "base_uri": "https://localhost:8080/"
        },
        "id": "JTpzMR8hG5Yb",
        "outputId": "481a6669-abfa-4af9-baed-dad66d60ec33"
      },
      "outputs": [
        {
          "data": {
            "text/plain": [
              "4607"
            ]
          },
          "execution_count": 31,
          "metadata": {},
          "output_type": "execute_result"
        }
      ],
      "source": [
        "len(val_data) #Validation Data Length"
      ]
    },
    {
      "cell_type": "code",
      "execution_count": null,
      "metadata": {
        "id": "gLsNmB3E4Bnf"
      },
      "outputs": [],
      "source": [
        "from torch.utils.data import TensorDataset, DataLoader\n",
        "\n",
        "#Converting datasets to TensorDatasets\n",
        "train_dataset = TensorDataset(torch.Tensor(train_data))\n",
        "val_dataset = TensorDataset(torch.Tensor(val_data))\n",
        "test_dataset = TensorDataset(torch.Tensor(test_data))"
      ]
    },
    {
      "cell_type": "code",
      "execution_count": null,
      "metadata": {
        "id": "59FGVNYO46uy"
      },
      "outputs": [],
      "source": [
        "#Getting the DataLoaders\n",
        "train_loader = DataLoader(train_dataset, batch_size = 100, shuffle = True)\n",
        "val_loader = DataLoader(val_dataset, batch_size = 100, shuffle = True)\n",
        "test_loader = DataLoader(test_dataset, batch_size = 100, shuffle = True)"
      ]
    },
    {
      "cell_type": "markdown",
      "metadata": {
        "id": "h9wJAKOI1pq3"
      },
      "source": [
        "## Part 2. Model Setup [5 pt]\n",
        "\n",
        "### Part (a) [4 pt]\n",
        "\n",
        "Design a fully-connected autoencoder by modifying the `encoder` and `decoder`\n",
        "below.\n",
        "\n",
        "The input to this autoencoder will be the features of the `data`, with\n",
        "one categorical feature recorded as \"missing\". The output of the autoencoder\n",
        "should be the reconstruction of the same features, but with the missing\n",
        "value filled in.\n",
        "\n",
        "**Note**: Do not reduce the dimensionality of the input too much!\n",
        "The output of your embedding is expected to contain information\n",
        "about ~11 features."
      ]
    },
    {
      "cell_type": "code",
      "execution_count": null,
      "metadata": {
        "collapsed": true,
        "id": "f3F--tdn1pq3"
      },
      "outputs": [],
      "source": [
        "from torch import nn\n",
        "\n",
        "class AutoEncoder(nn.Module):\n",
        "    def __init__(self):\n",
        "        super(AutoEncoder, self).__init__()\n",
        "        self.encoder = nn.Sequential(\n",
        "            nn.Linear(57, 48),\n",
        "            nn.ReLU(),\n",
        "            nn.Linear(48, 24),\n",
        "            nn.ReLU(),\n",
        "            nn.Linear(24, 11)\n",
        "        )\n",
        "        self.decoder = nn.Sequential(\n",
        "            nn.Linear(11, 24),\n",
        "            nn.ReLU(),\n",
        "            nn.Linear(24, 48),\n",
        "            nn.ReLU(),\n",
        "            nn.Linear(48, 57),\n",
        "            nn.Sigmoid() # get to the range (0, 1)\n",
        "        )\n",
        "\n",
        "    def forward(self, x):\n",
        "        x = self.encoder(x)\n",
        "        x = self.decoder(x)\n",
        "        return x"
      ]
    },
    {
      "cell_type": "code",
      "execution_count": null,
      "metadata": {
        "id": "8S_b5UHlINKd"
      },
      "outputs": [],
      "source": [
        "model = AutoEncoder()"
      ]
    },
    {
      "cell_type": "markdown",
      "metadata": {
        "id": "kuEzTSAv1pq6"
      },
      "source": [
        "### Part (b) [1 pt]\n",
        "\n",
        "Explain why there is a sigmoid activation in the last step of the decoder.\n",
        "\n",
        "\n",
        "Sigmoid Activation Function converts logits to the distribution from [0,1] which is the probability of that feature being True/False. When we one-hot encode the data, then we want to know if a Feature is True/False and the probability for that is found by converting logits to sigmoid."
      ]
    },
    {
      "cell_type": "markdown",
      "metadata": {
        "id": "jYwqFWVl1pq8"
      },
      "source": [
        "## Part 3. Training [18]\n",
        "\n",
        "### Part (a) [6 pt]\n",
        "\n",
        "We will train our autoencoder in the following way:\n",
        "\n",
        "- In each iteration, we will hide one of the categorical features using the `zero_out_random_features` function\n",
        "- We will pass the data with one missing feature through the autoencoder, and obtain a reconstruction\n",
        "- We will check how close the reconstruction is compared to the original data -- including the value of the missing feature\n",
        "\n",
        "Complete the code to train the autoencoder, and plot the training and validation loss every few iterations.\n",
        "You may also want to plot training and validation \"accuracy\" every few iterations, as we will define in\n",
        "part (b). You may also want to checkpoint your model every few iterations or epochs.\n",
        "\n",
        "Use `nn.MSELoss()` as your loss function. (Side note: you might recognize that this loss function is not\n",
        "ideal for this problem, but we will use it anyway.)"
      ]
    },
    {
      "cell_type": "code",
      "execution_count": null,
      "metadata": {
        "collapsed": true,
        "id": "IDQA_-dS1pq9"
      },
      "outputs": [],
      "source": [
        "def zero_out_feature(records, feature):\n",
        "    \"\"\" Set the feature missing in records, by setting the appropriate\n",
        "    columns of records to 0\n",
        "    \"\"\"\n",
        "    start_index = cat_index[feature]\n",
        "    stop_index = cat_index[feature] + len(cat_values[feature])\n",
        "    records[:, start_index:stop_index] = 0\n",
        "    return records\n",
        "\n",
        "def zero_out_random_feature(records):\n",
        "    \"\"\" Set one random feature missing in records, by setting the\n",
        "    appropriate columns of records to 0\n",
        "    \"\"\"\n",
        "    return zero_out_feature(records, random.choice(catcols))\n",
        "\n",
        "def train(model, train_loader, valid_loader, num_epochs=5, learning_rate=1e-4):\n",
        "    \"\"\" Training loop \"\"\"\n",
        "    torch.manual_seed(42)\n",
        "    criterion = nn.MSELoss()\n",
        "    optimizer = torch.optim.Adam(model.parameters(), lr=learning_rate)\n",
        "\n",
        "    train_loss = []\n",
        "    train_acc = []\n",
        "    val_acc = []\n",
        "    iterations = []\n",
        "    for epoch in range(num_epochs):\n",
        "      acc = 0\n",
        "      total = 0\n",
        "      for [data] in train_loader:\n",
        "          datam = zero_out_random_feature(data.clone()) # zero out one categorical feature\n",
        "          recon = model(datam)\n",
        "          loss = criterion(recon, data)\n",
        "          loss.backward()\n",
        "          optimizer.step()\n",
        "          optimizer.zero_grad()\n",
        "\n",
        "          #Calculates Training accuracy (number of features correctly mapped)\n",
        "          for i in range(recon.shape[0]):\n",
        "            inp = datam[i].detach().numpy()\n",
        "            out = recon[i].detach().numpy()\n",
        "            features_match = 0\n",
        "            for feature, start in cat_index.items():\n",
        "              start = start\n",
        "              stop = start + len(cat_values[feature])\n",
        "              if get_categorical_value(inp[start:stop], feature) == get_categorical_value(out[start:stop], feature):\n",
        "                features_match += 1\n",
        "            acc += features_match\n",
        "            total += len(cat_index)\n",
        "          train_loss.append(loss)\n",
        "          train_acc.append((acc/total))\n",
        "          val_acc.append(get_accuracy(model, val_loader))\n",
        "          iterations.append(len(datam))\n",
        "          # print(f'Iterations {total} Loss {loss} Train Acc {(float)(acc/total)} Val Acc {val_acc[-1]}')\n",
        "      epoch_num = epoch\n",
        "      trainacc_epoch = train_acc[-1]\n",
        "      valacc_epoch = val_acc[-1]\n",
        "      trainloss_epoch = train_loss[-1]\n",
        "      print(f'Epoch {epoch+1} Training Loss {trainloss_epoch} Training Accuracy {trainacc_epoch} Validation Accuracy {valacc_epoch}')\n",
        "    #Returns evaluation metrics across iterations\n",
        "    return train_loss, train_acc, val_acc, iterations"
      ]
    },
    {
      "cell_type": "markdown",
      "metadata": {
        "id": "WKk01pwx1pq_"
      },
      "source": [
        "### Part (b) [3 pt]\n",
        "\n",
        "While plotting training and validation loss is valuable, loss values are harder to compare\n",
        "than accuracy percentages. It would be nice to have a measure of \"accuracy\" in this problem.\n",
        "\n",
        "Since we will only be imputing missing categorical values, we will define an accuracy measure.\n",
        "For each record and for each categorical feature, we determine whether\n",
        "the model can predict the categorical feature given all the other features of the record.\n",
        "\n",
        "A function `get_accuracy` is written for you. It is up to you to figure out how to\n",
        "use the function. **You don't need to submit anything in this part.**\n",
        "To earn the marks, correctly plot the training and validation accuracy every few\n",
        "iterations as part of your training curve."
      ]
    },
    {
      "cell_type": "code",
      "execution_count": null,
      "metadata": {
        "collapsed": true,
        "id": "bHWLfCzM1pq_"
      },
      "outputs": [],
      "source": [
        "def get_accuracy(model, data_loader):\n",
        "    \"\"\"Return the \"accuracy\" of the autoencoder model across a data set.\n",
        "    That is, for each record and for each categorical feature,\n",
        "    we determine whether the model can successfully predict the value\n",
        "    of the categorical feature given all the other features of the\n",
        "    record. The returned \"accuracy\" measure is the percentage of times\n",
        "    that our model is successful.\n",
        "\n",
        "    Args:\n",
        "       - model: the autoencoder model, an instance of nn.Module\n",
        "       - data_loader: an instance of torch.utils.data.DataLoader\n",
        "\n",
        "    Example (to illustrate how get_accuracy is intended to be called.\n",
        "             Depending on your variable naming this code might require\n",
        "             modification.)\n",
        "\n",
        "        >>> model = AutoEncoder()\n",
        "        >>> vdl = torch.utils.data.DataLoader(data_valid, batch_size=256, shuffle=True)\n",
        "        >>> get_accuracy(model, vdl)\n",
        "    \"\"\"\n",
        "    total = 0\n",
        "    acc = 0\n",
        "    for col in catcols:\n",
        "        for [item] in data_loader: # minibatches\n",
        "            inp = item.detach().numpy()\n",
        "            out = model(zero_out_feature(item.clone(), col)).detach().numpy()\n",
        "            for i in range(out.shape[0]): # record in minibatch\n",
        "                acc += int(get_feature(out[i], col) == get_feature(inp[i], col))\n",
        "                total += 1\n",
        "    return acc / total"
      ]
    },
    {
      "cell_type": "markdown",
      "metadata": {
        "id": "SxCTlXoV1prB"
      },
      "source": [
        "### Part (c) [4 pt]\n",
        "\n",
        "Run your updated training code, using reasonable initial hyperparameters.\n",
        "\n",
        "Include your training curve in your submission.\n",
        "\n",
        "### Initial Hyperparamters\n",
        "Learning Rate = 1e-4\n",
        "\n",
        "Batch Size = 100\n",
        "\n",
        "Number of Epochs = 5\n"
      ]
    },
    {
      "cell_type": "code",
      "execution_count": null,
      "metadata": {
        "colab": {
          "base_uri": "https://localhost:8080/"
        },
        "id": "LBpFuwF03-iZ",
        "outputId": "f2232872-d55a-4951-a2b0-82601ee5465a"
      },
      "outputs": [
        {
          "name": "stdout",
          "output_type": "stream",
          "text": [
            "Epoch 1 Training Loss 0.213432177901268 Training Accuracy 0.25332527206771466 Validation Accuracy 0.30569423341292234\n",
            "Epoch 2 Training Loss 0.08736728131771088 Training Accuracy 0.32112516665116425 Validation Accuracy 0.45807105129874826\n",
            "Epoch 3 Training Loss 0.0723462924361229 Training Accuracy 0.4017998325737141 Validation Accuracy 0.45807105129874826\n",
            "Epoch 4 Training Loss 0.057764291763305664 Training Accuracy 0.405419650885189 Validation Accuracy 0.4585775269517401\n",
            "Epoch 5 Training Loss 0.07053771615028381 Training Accuracy 0.40698539670728306 Validation Accuracy 0.4585775269517401\n"
          ]
        }
      ],
      "source": [
        "train_loss, train_acc, val_acc, iterations = train(model, train_loader, val_loader)"
      ]
    },
    {
      "cell_type": "code",
      "execution_count": null,
      "metadata": {
        "id": "UzJJ8o5L4A2m"
      },
      "outputs": [],
      "source": [
        "#Since train loss is a list of tensors, converting it to numpy and saving it to plot it\n",
        "x = []\n",
        "for loss in train_loss:\n",
        "  loss = loss.detach().numpy()\n",
        "  loss = float(loss)\n",
        "  x.append(loss)\n",
        "\n",
        "train_loss = x"
      ]
    },
    {
      "cell_type": "code",
      "execution_count": null,
      "metadata": {
        "id": "uQxhNTDb8VMJ"
      },
      "outputs": [],
      "source": [
        "#iterations contains the length of each batch size processed so to get the actual iteration we process the code below\n",
        "t = iterations[0]\n",
        "for i in range(1, len(iterations)):\n",
        "  iterations [i] = iterations[i] + t\n",
        "  t = iterations[i]"
      ]
    },
    {
      "cell_type": "code",
      "execution_count": null,
      "metadata": {
        "colab": {
          "base_uri": "https://localhost:8080/",
          "height": 504
        },
        "id": "wgbBDToh08Eb",
        "outputId": "b5aec5aa-e597-40b4-eaa3-3a7efe169278"
      },
      "outputs": [
        {
          "data": {
            "text/plain": [
              "Text(0.5, 1.0, 'Training (Change of Loss)')"
            ]
          },
          "execution_count": 122,
          "metadata": {},
          "output_type": "execute_result"
        },
        {
          "data": {
            "image/png": "[encoded data removed]",
            "text/plain": [
              "<Figure size 500x500 with 1 Axes>"
            ]
          },
          "metadata": {},
          "output_type": "display_data"
        }
      ],
      "source": [
        "#Plotting the Training Loss across Iterations\n",
        "import matplotlib.pyplot as plt\n",
        "\n",
        "plt.figure(figsize=(5,5))\n",
        "plt.plot(iterations, train_loss, label='Training Loss')\n",
        "plt.xlabel('Iterations')\n",
        "plt.ylabel('Loss')\n",
        "plt.title('Training (Change of Loss)')"
      ]
    },
    {
      "cell_type": "code",
      "execution_count": null,
      "metadata": {
        "colab": {
          "base_uri": "https://localhost:8080/",
          "height": 504
        },
        "id": "dqez7n151tEj",
        "outputId": "82518e71-875f-41dd-911e-263fe8aaae79"
      },
      "outputs": [
        {
          "data": {
            "text/plain": [
              "<matplotlib.legend.Legend at 0x7aca85630eb0>"
            ]
          },
          "execution_count": 126,
          "metadata": {},
          "output_type": "execute_result"
        },
        {
          "data": {
            "image/png": "[encoded data removed]",
            "text/plain": [
              "<Figure size 500x500 with 1 Axes>"
            ]
          },
          "metadata": {},
          "output_type": "display_data"
        }
      ],
      "source": [
        "#Plotting the Training/Validation Accuracy across Iterations\n",
        "import matplotlib.pyplot as plt\n",
        "\n",
        "plt.figure(figsize=(5,5))\n",
        "plt.plot(iterations, train_acc, label='Training Accuracy')\n",
        "plt.plot(iterations, val_acc, label='Validation Accuracy')\n",
        "plt.xlabel('Iterations')\n",
        "plt.ylabel('Accuracy')\n",
        "plt.title('Training (Change of Loss)')\n",
        "plt.legend(loc='best')"
      ]
    },
    {
      "cell_type": "markdown",
      "metadata": {
        "id": "h9xTwIf51prF"
      },
      "source": [
        "### Part (d) [5 pt]\n",
        "\n",
        "Tune your hyperparameters, training at least 4 different models (4 sets of hyperparameters).\n",
        "\n",
        "Do not include all your training curves. Instead, explain what hyperparameters\n",
        "you tried, what their effect was, and what your thought process was as you\n",
        "chose the next set of hyperparameters to try."
      ]
    },
    {
      "cell_type": "markdown",
      "metadata": {
        "id": "jJq8qeeH91VZ"
      },
      "source": [
        "### Version 2\n",
        "\n",
        "Compared with Version 1, I feel that because the learning rate is too small and the number of epochs are only 5, the model could attain a better convergence on increasing the learning rate to 0.001 and training it for a longer period of time in 10 epochs, with same batch size.\n",
        "\n",
        "The model achieved 74% training accuracy and 60% validation accuracy, better than the first version, indicating that our reasoning was correct."
      ]
    },
    {
      "cell_type": "code",
      "execution_count": null,
      "metadata": {
        "collapsed": true,
        "id": "PhTKt9iL1prG"
      },
      "outputs": [],
      "source": [
        "model_2 = AutoEncoder()"
      ]
    },
    {
      "cell_type": "code",
      "execution_count": null,
      "metadata": {
        "colab": {
          "base_uri": "https://localhost:8080/"
        },
        "id": "876Mngxp9fil",
        "outputId": "5c67b67a-57c1-4fe9-d369-dbc216da8e1c"
      },
      "outputs": [
        {
          "name": "stdout",
          "output_type": "stream",
          "text": [
            "Epoch 1 Training Loss 0.06859058141708374 Training Accuracy 0.3776857966700772 Validation Accuracy 0.4587222342811663\n",
            "Epoch 2 Training Loss 0.07184717059135437 Training Accuracy 0.5269199764363005 Validation Accuracy 0.571919542724839\n",
            "Epoch 3 Training Loss 0.05632657930254936 Training Accuracy 0.5760626918426193 Validation Accuracy 0.5828811229288764\n",
            "Epoch 4 Training Loss 0.021215545013546944 Training Accuracy 0.6201206089356028 Validation Accuracy 0.5881991172852905\n",
            "Epoch 5 Training Loss 0.03170807287096977 Training Accuracy 0.6603261712088798 Validation Accuracy 0.5947109471094711\n",
            "Epoch 6 Training Loss 0.024839408695697784 Training Accuracy 0.6874941865872942 Validation Accuracy 0.6012227769336517\n",
            "Epoch 7 Training Loss 0.032867319881916046 Training Accuracy 0.7088952965615601 Validation Accuracy 0.596519788727299\n",
            "Epoch 8 Training Loss 0.02057518996298313 Training Accuracy 0.7234753356276935 Validation Accuracy 0.6049128138340207\n",
            "Epoch 9 Training Loss 0.016274310648441315 Training Accuracy 0.7294437726723095 Validation Accuracy 0.6047681065045944\n",
            "Epoch 10 Training Loss 0.047090910375118256 Training Accuracy 0.7430084023191641 Validation Accuracy 0.6042978076839592\n"
          ]
        }
      ],
      "source": [
        "train_loss_2, train_acc_2, val_acc_2, iterations_2 = train(model_2, train_loader, val_loader, num_epochs = 10, learning_rate=0.001)"
      ]
    },
    {
      "cell_type": "markdown",
      "metadata": {
        "id": "ER7WjlNQCcgv"
      },
      "source": [
        "### Version 3\n",
        "\n",
        "At the end of Version 2, there was a clear sign that the model was about to overfit the data given slight increase in loss and training loss. So, I decided for version to slightly reduce the learning rate to 0.0007 while increasing the number of epochs to 15. This would make the model train slower and for a longer period while capturing more detailed patterns.\n",
        "\n",
        "Even this model, achieved a training accuracy of 74% and validation accuracy of 59%, indicating that more epochs and a lower learning rate did not impact the model's training significantly."
      ]
    },
    {
      "cell_type": "code",
      "execution_count": null,
      "metadata": {
        "id": "DtU7c4CdDCUl"
      },
      "outputs": [],
      "source": [
        "model_3 = AutoEncoder()"
      ]
    },
    {
      "cell_type": "code",
      "execution_count": null,
      "metadata": {
        "colab": {
          "base_uri": "https://localhost:8080/"
        },
        "id": "kif2NS0xDQpR",
        "outputId": "88f66640-d4c1-45d3-d4a0-2ccb7e280616"
      },
      "outputs": [
        {
          "name": "stdout",
          "output_type": "stream",
          "text": [
            "Epoch 1 Training Loss 0.07025384902954102 Training Accuracy 0.35416085325396085 Validation Accuracy 0.45861370378409666\n",
            "Epoch 2 Training Loss 0.07811783254146576 Training Accuracy 0.48131181595510497 Validation Accuracy 0.5516243397728094\n",
            "Epoch 3 Training Loss 0.061859868466854095 Training Accuracy 0.5440501658760425 Validation Accuracy 0.5701468779393676\n",
            "Epoch 4 Training Loss 0.03727606683969498 Training Accuracy 0.5989210306018045 Validation Accuracy 0.5868243976557412\n",
            "Epoch 5 Training Loss 0.03190317004919052 Training Accuracy 0.6491799212476359 Validation Accuracy 0.5968815570508647\n",
            "Epoch 6 Training Loss 0.04415074735879898 Training Accuracy 0.6700384460360277 Validation Accuracy 0.5919976846827292\n",
            "Epoch 7 Training Loss 0.03214440494775772 Training Accuracy 0.6817970421356153 Validation Accuracy 0.5871138123145937\n",
            "Epoch 8 Training Loss 0.030097709968686104 Training Accuracy 0.6825024028772517 Validation Accuracy 0.5925765140004341\n",
            "Epoch 9 Training Loss 0.021938234567642212 Training Accuracy 0.6908659659566552 Validation Accuracy 0.5885608856088561\n",
            "Epoch 10 Training Loss 0.044086601585149765 Training Accuracy 0.6995783337984064 Validation Accuracy 0.5885970624412127\n",
            "Epoch 11 Training Loss 0.04676463454961777 Training Accuracy 0.7113214274641119 Validation Accuracy 0.5898632515736922\n",
            "Epoch 12 Training Loss 0.048170894384384155 Training Accuracy 0.7205763804917372 Validation Accuracy 0.5874394038058027\n",
            "Epoch 13 Training Loss 0.03164390102028847 Training Accuracy 0.7240101695966267 Validation Accuracy 0.5931915201504956\n",
            "Epoch 14 Training Loss 0.022569360211491585 Training Accuracy 0.7366911605122004 Validation Accuracy 0.5945662397800449\n",
            "Epoch 15 Training Loss 0.028754957020282745 Training Accuracy 0.7468917620066351 Validation Accuracy 0.5964112582302293\n"
          ]
        }
      ],
      "source": [
        "train_loss_3, train_acc_3, val_acc_3, iterations_3 = train(model_3, train_loader, val_loader, num_epochs = 15, learning_rate=0.0007)"
      ]
    },
    {
      "cell_type": "markdown",
      "metadata": {
        "id": "_CfqSKlmKDKg"
      },
      "source": [
        "### Version 4\n",
        "\n",
        "As training is taking a lot of time, for this model, I decided to increase the batch size from 100 to 150 to speed up training, while keeping the learning rate at 0.001, a low learning rate to prevent the loss from fluctuating too much. Also increased the number of epochs to 20 so that it trains longer on the larger batches to get better patterns.\n",
        "\n",
        "The model achieved a training accuracy of 73% and a validation accuracy of 60%. Compared with version 2, there wasn't significant difference. However, the end evaluation metrics suggest that the model could have been trained for a longer period of time."
      ]
    },
    {
      "cell_type": "code",
      "execution_count": null,
      "metadata": {
        "id": "d3DvZZECKXMs"
      },
      "outputs": [],
      "source": [
        "model_4 = AutoEncoder()"
      ]
    },
    {
      "cell_type": "code",
      "execution_count": null,
      "metadata": {
        "id": "DsvAWRPsKdmW"
      },
      "outputs": [],
      "source": [
        "train_loader_4 = DataLoader(train_dataset, batch_size = 150, shuffle = True)\n",
        "val_loader_4 = DataLoader(val_dataset, batch_size = 150, shuffle = True)\n",
        "test_loader_4 = DataLoader(test_dataset, batch_size = 150, shuffle = True)"
      ]
    },
    {
      "cell_type": "code",
      "execution_count": null,
      "metadata": {
        "colab": {
          "background_save": true,
          "base_uri": "https://localhost:8080/"
        },
        "id": "bkA6Ir2aKjOG",
        "outputId": "e5adc10d-e1f0-450f-cbc5-9755d178baf4"
      },
      "outputs": [
        {
          "name": "stdout",
          "output_type": "stream",
          "text": [
            "Epoch 1 Training Loss 0.06849571317434311 Training Accuracy 0.3550599944191238 Validation Accuracy 0.4622675638521091\n",
            "Epoch 2 Training Loss 0.056287121027708054 Training Accuracy 0.5100610795894955 Validation Accuracy 0.5570870414586498\n",
            "Epoch 3 Training Loss 0.054004523903131485 Training Accuracy 0.547871515827985 Validation Accuracy 0.5722813110484046\n",
            "Epoch 4 Training Loss 0.04832325503230095 Training Accuracy 0.5700089914116516 Validation Accuracy 0.5871499891469503\n",
            "Epoch 5 Training Loss 0.039186906069517136 Training Accuracy 0.6090906272284748 Validation Accuracy 0.5970262643802908\n",
            "Epoch 6 Training Loss 0.04184027016162872 Training Accuracy 0.6460174247356835 Validation Accuracy 0.5989436364951884\n",
            "Epoch 7 Training Loss 0.0358734130859375 Training Accuracy 0.6653567110036276 Validation Accuracy 0.6009695391071558\n",
            "Epoch 8 Training Loss 0.035406406968832016 Training Accuracy 0.6777974141940285 Validation Accuracy 0.6057448809782215\n",
            "Epoch 9 Training Loss 0.03460678830742836 Training Accuracy 0.6899823272253743 Validation Accuracy 0.6014760147601476\n",
            "Epoch 10 Training Loss 0.03762044385075569 Training Accuracy 0.6928425262766255 Validation Accuracy 0.5945300629476883\n",
            "Epoch 11 Training Loss 0.03225382789969444 Training Accuracy 0.6952066474436487 Validation Accuracy 0.5944577092829751\n",
            "Epoch 12 Training Loss 0.036297351121902466 Training Accuracy 0.7102207546584813 Validation Accuracy 0.6003907097894509\n",
            "Epoch 13 Training Loss 0.032539352774620056 Training Accuracy 0.7136622949803119 Validation Accuracy 0.6023804355690616\n",
            "Epoch 14 Training Loss 0.03403303399682045 Training Accuracy 0.720421356152916 Validation Accuracy 0.6044425150133854\n",
            "Epoch 15 Training Loss 0.03375745937228203 Training Accuracy 0.7205066195392676 Validation Accuracy 0.596519788727299\n",
            "Epoch 16 Training Loss 0.02989785745739937 Training Accuracy 0.720041546522804 Validation Accuracy 0.6040083930251067\n",
            "Epoch 17 Training Loss 0.02305041067302227 Training Accuracy 0.7252193594394319 Validation Accuracy 0.6062151797988569\n",
            "Epoch 18 Training Loss 0.025741999968886375 Training Accuracy 0.731187796484048 Validation Accuracy 0.6076622530931192\n",
            "Epoch 19 Training Loss 0.02926376834511757 Training Accuracy 0.7330713422007256 Validation Accuracy 0.5994862889805369\n",
            "Epoch 20 Training Loss 0.030845534056425095 Training Accuracy 0.7388847549065203 Validation Accuracy 0.6091093263873815\n"
          ]
        }
      ],
      "source": [
        "train_loss_4, train_acc_4, val_acc_4, iterations_4 = train(model_4, train_loader_4, val_loader_4, num_epochs = 20, learning_rate=0.001)"
      ]
    },
    {
      "cell_type": "markdown",
      "source": [
        "### Version 5\n",
        "\n",
        "For version 5, I have introducted dropouts to prevent any overfitting. Also increased the number of epochs to 30 as version 4 could have clearly been trained for longer. The same parameters from version 4 have been used with dropout layers (10% probability) to prevent overfitting and more epochs.\n",
        "\n",
        "It is clear that this is the model architecture's peak performance as despite more training, training accuracy is at 72% and validation accuracy is at 60%.\n"
      ],
      "metadata": {
        "id": "FCfbuE4KSSYt"
      }
    },
    {
      "cell_type": "code",
      "source": [
        "class AutoEncoder2(nn.Module):\n",
        "    def __init__(self):\n",
        "        super(AutoEncoder2, self).__init__()\n",
        "        self.encoder = nn.Sequential(\n",
        "            nn.Linear(57, 48),\n",
        "            nn.ReLU(),\n",
        "            nn.Dropout(0.1),\n",
        "            nn.Linear(48, 24),\n",
        "            nn.ReLU(),\n",
        "            nn.Dropout(0.1),\n",
        "            nn.Linear(24, 11)\n",
        "        )\n",
        "        self.decoder = nn.Sequential(\n",
        "            nn.Linear(11, 24),\n",
        "            nn.ReLU(),\n",
        "            nn.Dropout(0.1),\n",
        "            nn.Linear(24, 48),\n",
        "            nn.ReLU(),\n",
        "            nn.Dropout(0.1),\n",
        "            nn.Linear(48, 57),\n",
        "            nn.Sigmoid() # get to the range (0, 1)\n",
        "        )\n",
        "\n",
        "    def forward(self, x):\n",
        "        x = self.encoder(x)\n",
        "        x = self.decoder(x)\n",
        "        return x"
      ],
      "metadata": {
        "id": "lD2NqONpRzA_"
      },
      "execution_count": null,
      "outputs": []
    },
    {
      "cell_type": "code",
      "source": [
        "model_5 = AutoEncoder2()"
      ],
      "metadata": {
        "id": "IoBUIB5wSLY2"
      },
      "execution_count": null,
      "outputs": []
    },
    {
      "cell_type": "code",
      "source": [
        "train_loss_5, train_acc_5, val_acc_5, iterations_5 = train(model_5, train_loader_4, val_loader_4, num_epochs = 30, learning_rate=0.001)"
      ],
      "metadata": {
        "colab": {
          "base_uri": "https://localhost:8080/"
        },
        "id": "9IRuhx9wSRRW",
        "outputId": "8e108a41-9436-44fe-addc-3a3f56f1e6ca"
      },
      "execution_count": null,
      "outputs": [
        {
          "output_type": "stream",
          "name": "stdout",
          "text": [
            "Epoch 1 Training Loss 0.07027284055948257 Training Accuracy 0.3546724335720708 Validation Accuracy 0.45662397800448595\n",
            "Epoch 2 Training Loss 0.06116538122296333 Training Accuracy 0.4826295228350851 Validation Accuracy 0.5467042905723175\n",
            "Epoch 3 Training Loss 0.04482561722397804 Training Accuracy 0.5418720739156048 Validation Accuracy 0.5713768902394907\n",
            "Epoch 4 Training Loss 0.048113249242305756 Training Accuracy 0.5534291383747248 Validation Accuracy 0.5746689819839375\n",
            "Epoch 5 Training Loss 0.04456371068954468 Training Accuracy 0.5776671937494187 Validation Accuracy 0.5850879097026265\n",
            "Epoch 6 Training Loss 0.042122624814510345 Training Accuracy 0.6032152047871516 Validation Accuracy 0.5889226539324217\n",
            "Epoch 7 Training Loss 0.04203690215945244 Training Accuracy 0.6198028090410195 Validation Accuracy 0.5953621300918892\n",
            "Epoch 8 Training Loss 0.04282543808221817 Training Accuracy 0.6218878863981645 Validation Accuracy 0.5968092033861515\n",
            "Epoch 9 Training Loss 0.040918365120887756 Training Accuracy 0.6314838929711964 Validation Accuracy 0.6008248317777295\n",
            "Epoch 10 Training Loss 0.042881228029727936 Training Accuracy 0.6397389390134252 Validation Accuracy 0.6028869112220534\n",
            "Epoch 11 Training Loss 0.033159732818603516 Training Accuracy 0.6563110408334109 Validation Accuracy 0.6094349178785905\n",
            "Epoch 12 Training Loss 0.04058056324720383 Training Accuracy 0.661907419464856 Validation Accuracy 0.6046957528398813\n",
            "Epoch 13 Training Loss 0.034074410796165466 Training Accuracy 0.6765494682665179 Validation Accuracy 0.6055639968164388\n",
            "Epoch 14 Training Loss 0.03597518056631088 Training Accuracy 0.6737590301677363 Validation Accuracy 0.6055278199840822\n",
            "Epoch 15 Training Loss 0.029674764722585678 Training Accuracy 0.6865950454221312 Validation Accuracy 0.6035019173721149\n",
            "Epoch 16 Training Loss 0.03162488713860512 Training Accuracy 0.6907496977025392 Validation Accuracy 0.6029592648867665\n",
            "Epoch 17 Training Loss 0.03215686231851578 Training Accuracy 0.6888041422503333 Validation Accuracy 0.6050936979958035\n",
            "Epoch 18 Training Loss 0.03626261278986931 Training Accuracy 0.694609803739187 Validation Accuracy 0.607589899428406\n",
            "Epoch 19 Training Loss 0.03871922567486763 Training Accuracy 0.7001131677673395 Validation Accuracy 0.6033210332103321\n",
            "Epoch 20 Training Loss 0.034319277852773666 Training Accuracy 0.6996325923169938 Validation Accuracy 0.605708704145865\n",
            "Epoch 21 Training Loss 0.03863053396344185 Training Accuracy 0.7042523176138654 Validation Accuracy 0.6066854786194921\n",
            "Epoch 22 Training Loss 0.030729103833436966 Training Accuracy 0.7007875236412117 Validation Accuracy 0.609073149555025\n",
            "Epoch 23 Training Loss 0.03326171264052391 Training Accuracy 0.7057870585681952 Validation Accuracy 0.6019101367484263\n",
            "Epoch 24 Training Loss 0.030962133780121803 Training Accuracy 0.7129259293709113 Validation Accuracy 0.6038275088633239\n",
            "Epoch 25 Training Loss 0.030638551339507103 Training Accuracy 0.7098719498961337 Validation Accuracy 0.6059619419723609\n",
            "Epoch 26 Training Loss 0.02835657075047493 Training Accuracy 0.7118717638669271 Validation Accuracy 0.6062513566312133\n",
            "Epoch 27 Training Loss 0.031029514968395233 Training Accuracy 0.7170108206988497 Validation Accuracy 0.6046233991751683\n",
            "Epoch 28 Training Loss 0.026699023321270943 Training Accuracy 0.7174913961491954 Validation Accuracy 0.6035019173721149\n",
            "Epoch 29 Training Loss 0.025143835693597794 Training Accuracy 0.7239946671627445 Validation Accuracy 0.6064322407929962\n",
            "Epoch 30 Training Loss 0.02781187929213047 Training Accuracy 0.7221963848324187 Validation Accuracy 0.6094349178785905\n"
          ]
        }
      ]
    },
    {
      "cell_type": "markdown",
      "metadata": {
        "id": "ymCsZH291prI"
      },
      "source": [
        "## Part 4. Testing [12 pt]\n",
        "\n",
        "### Part (a) [2 pt]\n",
        "\n",
        "Compute and report the test accuracy.\n",
        "\n",
        "model_4 has the best validation accuracy and thus, has been chosen as the best model. It achieves a test accuracy of 60.85%."
      ]
    },
    {
      "cell_type": "code",
      "execution_count": null,
      "metadata": {
        "collapsed": true,
        "id": "0OkSbup91prJ",
        "colab": {
          "base_uri": "https://localhost:8080/"
        },
        "outputId": "4093b9fa-32fa-475b-c8d3-444168800928"
      },
      "outputs": [
        {
          "output_type": "execute_result",
          "data": {
            "text/plain": [
              "0.6085918854415274"
            ]
          },
          "metadata": {},
          "execution_count": 144
        }
      ],
      "source": [
        "get_accuracy(model_4, test_loader_4)"
      ]
    },
    {
      "cell_type": "markdown",
      "metadata": {
        "id": "UEe9yt6L1prM"
      },
      "source": [
        "### Part (b) [4 pt]\n",
        "\n",
        "Based on the test accuracy alone, it is difficult to assess whether our model\n",
        "is actually performing well. We don't know whether a high accuracy is due to\n",
        "the simplicity of the problem, or if a poor accuracy is a result of the inherent\n",
        "difficulty of the problem.\n",
        "\n",
        "It is therefore very important to be able to compare our model to at least one\n",
        "alternative. In particular, we consider a simple **baseline**\n",
        "model that is not very computationally expensive. Our neural network\n",
        "should at least outperform this baseline model. If our network is not much\n",
        "better than the baseline, then it is not doing well.\n",
        "\n",
        "For our data imputation problem, consider the following baseline model:\n",
        "to predict a missing feature, the baseline model will look at the **most common value** of the feature in the training set.\n",
        "\n",
        "For example, if the feature \"marriage\" is missing, then this model's prediction will be the most common value for \"marriage\" in the training set, which happens to be \"Married-civ-spouse\".\n",
        "\n",
        "What would be the test accuracy of this baseline model?\n"
      ]
    },
    {
      "cell_type": "code",
      "source": [
        "train_data #Our Training Data in a numpy array"
      ],
      "metadata": {
        "colab": {
          "base_uri": "https://localhost:8080/"
        },
        "collapsed": true,
        "id": "3j8szXNilxEK",
        "outputId": "5dd85e0c-5c71-40b4-f1a6-e16ad6c6d6f6"
      },
      "execution_count": null,
      "outputs": [
        {
          "output_type": "execute_result",
          "data": {
            "text/plain": [
              "array([[0.23287672, 0.6       , 0.        , ..., 0.        , 1.        ,\n",
              "        0.        ],\n",
              "       [0.63013697, 0.6       , 0.10566106, ..., 0.        , 0.        ,\n",
              "        1.        ],\n",
              "       [0.47945204, 0.53333336, 0.        , ..., 1.        , 1.        ,\n",
              "        0.        ],\n",
              "       ...,\n",
              "       [0.15068494, 0.6       , 0.        , ..., 0.        , 0.        ,\n",
              "        1.        ],\n",
              "       [0.72602737, 0.33333334, 0.        , ..., 0.        , 0.        ,\n",
              "        1.        ],\n",
              "       [0.5753425 , 0.53333336, 0.        , ..., 0.        , 0.        ,\n",
              "        0.        ]], dtype=float32)"
            ]
          },
          "metadata": {},
          "execution_count": 282
        }
      ]
    },
    {
      "cell_type": "code",
      "source": [
        "#Collecting the most occuring category in each feature in train_data\n",
        "from collections import Counter\n",
        "predictions = {}\n",
        "for feature, start in cat_index.items():\n",
        "  stop = start + len(cat_values[feature])\n",
        "  features = []\n",
        "  for row in train_data:\n",
        "    features.append(get_categorical_value(row[start:stop], feature))\n",
        "  counter = Counter(features)\n",
        "  most_common, _ = counter.most_common(1)[0]\n",
        "  predictions[feature] = most_common"
      ],
      "metadata": {
        "id": "4QCTls3zgj5b"
      },
      "execution_count": null,
      "outputs": []
    },
    {
      "cell_type": "code",
      "source": [
        "predictions #Contains predictions (most common occurrence of a feature) of our baseline"
      ],
      "metadata": {
        "colab": {
          "base_uri": "https://localhost:8080/"
        },
        "id": "qidz4L_OmrIB",
        "outputId": "2032085c-411f-4ce0-dea8-b68cf5634710"
      },
      "execution_count": null,
      "outputs": [
        {
          "output_type": "execute_result",
          "data": {
            "text/plain": [
              "{'work': 'Private',\n",
              " 'marriage': 'Divorced',\n",
              " 'occupation': 'Adm-clerical',\n",
              " 'edu': '10th',\n",
              " 'relationship': 'Husband',\n",
              " 'sex': 'Female'}"
            ]
          },
          "metadata": {},
          "execution_count": 284
        }
      ]
    },
    {
      "cell_type": "code",
      "source": [
        "def baseline_model(input): #Input is the column for prediction\n",
        "  \"\"\"Input- Column for prediction\n",
        "     Output- Prediction\n",
        "  \"\"\"\n",
        "  return predictions[input]"
      ],
      "metadata": {
        "id": "KK7u0bVAnDgU"
      },
      "execution_count": null,
      "outputs": []
    },
    {
      "cell_type": "markdown",
      "metadata": {
        "id": "QlHu0wxh1prP"
      },
      "source": [
        "### Part (c) [1 pt]\n",
        "\n",
        "How does your test accuracy from part (a) compared to your basline test accuracy in part (b)?\n",
        "\n",
        "Baseline has a accuracy of 43.1% compared with the about 60% for model_4. The testing procedure is almost same as the get_accuracy function in the training part earlier."
      ]
    },
    {
      "cell_type": "code",
      "source": [
        "test_data #Test Data in numpy array"
      ],
      "metadata": {
        "colab": {
          "base_uri": "https://localhost:8080/"
        },
        "id": "wY-kyX7IoGWH",
        "outputId": "70bf2741-575a-45db-f843-b52e8c5beb46"
      },
      "execution_count": null,
      "outputs": [
        {
          "output_type": "execute_result",
          "data": {
            "text/plain": [
              "array([[0.08219178, 0.26666668, 0.        , ..., 0.        , 1.        ,\n",
              "        0.        ],\n",
              "       [0.09589041, 0.46666667, 0.        , ..., 0.        , 0.        ,\n",
              "        1.        ],\n",
              "       [0.60273975, 0.6       , 0.        , ..., 0.        , 0.        ,\n",
              "        1.        ],\n",
              "       ...,\n",
              "       [0.1369863 , 0.6       , 0.        , ..., 0.        , 0.        ,\n",
              "        1.        ],\n",
              "       [0.24657534, 0.53333336, 0.        , ..., 0.        , 0.        ,\n",
              "        0.        ],\n",
              "       [0.16438356, 0.8       , 0.        , ..., 0.        , 0.        ,\n",
              "        1.        ]], dtype=float32)"
            ]
          },
          "metadata": {},
          "execution_count": 286
        }
      ]
    },
    {
      "cell_type": "code",
      "execution_count": null,
      "metadata": {
        "collapsed": true,
        "id": "1KQdwE_n1prQ",
        "colab": {
          "base_uri": "https://localhost:8080/"
        },
        "outputId": "176db9b7-fabc-4934-b1f8-55ec0b569676"
      },
      "outputs": [
        {
          "output_type": "stream",
          "name": "stdout",
          "text": [
            "Test Data Accuracy 0.4312576842409778\n"
          ]
        }
      ],
      "source": [
        "#Testing on test_data (Test Data in numpy array)\n",
        "total = 0\n",
        "acc = 0\n",
        "for col in catcols:\n",
        "  for sample in test_data:\n",
        "    corr = get_feature(sample, col)\n",
        "    pred = baseline_model(col)\n",
        "    if pred == corr:\n",
        "      acc += 1\n",
        "    total += 1\n",
        "print(f'Test Data Accuracy {(float)((acc)/total)}')"
      ]
    },
    {
      "cell_type": "markdown",
      "metadata": {
        "id": "DfQPgu1Q1prS"
      },
      "source": [
        "### Part (d) [1 pt]\n",
        "\n",
        "Look at the first item in your test data.\n",
        "Do you think it is reasonable for a human\n",
        "to be able to guess this person's education level\n",
        "based on their other features? Explain.\n",
        "\n",
        "The first item in the test dataset is about a 12th graduate male, never-married person who's occupation is private farm-fishing. It is more likely for a human to guess that the person did not complete higher post secondary education due to the person's occupation."
      ]
    },
    {
      "cell_type": "code",
      "execution_count": null,
      "metadata": {
        "collapsed": true,
        "id": "3qbQ1vvT1prT",
        "colab": {
          "base_uri": "https://localhost:8080/"
        },
        "outputId": "06ef2bc8-a23f-4198-9566-0784b7ceaa67"
      },
      "outputs": [
        {
          "output_type": "execute_result",
          "data": {
            "text/plain": [
              "array([0.08219178, 0.26666668, 0.        , 0.        , 0.29591838,\n",
              "       0.        , 0.        , 1.        , 0.        , 0.        ,\n",
              "       0.        , 0.        , 0.        , 0.        , 0.        ,\n",
              "       0.        , 1.        , 0.        , 0.        , 0.        ,\n",
              "       0.        , 0.        , 0.        , 0.        , 0.        ,\n",
              "       0.        , 1.        , 0.        , 0.        , 0.        ,\n",
              "       0.        , 0.        , 0.        , 0.        , 0.        ,\n",
              "       0.        , 0.        , 0.        , 0.        , 1.        ,\n",
              "       0.        , 0.        , 0.        , 0.        , 0.        ,\n",
              "       0.        , 0.        , 0.        , 0.        , 0.        ,\n",
              "       0.        , 0.        , 0.        , 1.        , 0.        ,\n",
              "       1.        , 0.        ], dtype=float32)"
            ]
          },
          "metadata": {},
          "execution_count": 288
        }
      ],
      "source": [
        "test_data[1] #First item in data"
      ]
    },
    {
      "cell_type": "code",
      "source": [
        "print(get_feature(test_data[1], 'edu'))\n",
        "print(get_feature(test_data[1], 'work'))\n",
        "print(get_feature(test_data[1], 'marriage'))\n",
        "print(get_feature(test_data[1], 'occupation'))\n",
        "print(get_feature(test_data[1], 'relationship'))\n",
        "print(get_feature(test_data[1], 'sex'))"
      ],
      "metadata": {
        "colab": {
          "base_uri": "https://localhost:8080/"
        },
        "id": "GGCZ7zbMzOX-",
        "outputId": "e354915e-f526-4792-809a-c5870c63dede"
      },
      "execution_count": null,
      "outputs": [
        {
          "output_type": "stream",
          "name": "stdout",
          "text": [
            "12th\n",
            "Private\n",
            "Never-married\n",
            "Farming-fishing\n",
            "Own-child\n",
            "Male\n"
          ]
        }
      ]
    },
    {
      "cell_type": "markdown",
      "metadata": {
        "id": "p_d5uuAY1prZ"
      },
      "source": [
        "### Part (e) [2 pt]\n",
        "\n",
        "What is your model's prediction of this person's education\n",
        "level, given their other features?\n",
        "\n",
        "Model Version 4 predicts 11th which is very close to 12th (actual value)"
      ]
    },
    {
      "cell_type": "code",
      "execution_count": null,
      "metadata": {
        "collapsed": true,
        "id": "kBY5gKXR1pra",
        "colab": {
          "base_uri": "https://localhost:8080/",
          "height": 35
        },
        "outputId": "5a2da3eb-e4ff-4b37-de92-d7af53b2debe"
      },
      "outputs": [
        {
          "output_type": "execute_result",
          "data": {
            "text/plain": [
              "'11th'"
            ],
            "application/vnd.google.colaboratory.intrinsic+json": {
              "type": "string"
            }
          },
          "metadata": {},
          "execution_count": 307
        }
      ],
      "source": [
        "data = test_data[1]\n",
        "data[cat_index['edu']:cat_index['edu']+len(cat_values['edu'])] = 0\n",
        "pred = model_4(torch.Tensor(data))\n",
        "get_feature(pred, 'edu')"
      ]
    },
    {
      "cell_type": "markdown",
      "metadata": {
        "id": "fdLNA0ce1prd"
      },
      "source": [
        "### Part (f) [2 pt]\n",
        "\n",
        "What is the baseline model's prediction\n",
        "of this person's education level?\n",
        "\n",
        "Baseline Model predicts 10th which is worse than the model's prediction compared to 12th."
      ]
    },
    {
      "cell_type": "code",
      "execution_count": null,
      "metadata": {
        "collapsed": true,
        "id": "TXgoM9qk1prd",
        "colab": {
          "base_uri": "https://localhost:8080/",
          "height": 35
        },
        "outputId": "9a2969b8-7b4e-414f-83d2-0130a2ebb0cf"
      },
      "outputs": [
        {
          "output_type": "execute_result",
          "data": {
            "text/plain": [
              "'10th'"
            ],
            "application/vnd.google.colaboratory.intrinsic+json": {
              "type": "string"
            }
          },
          "metadata": {},
          "execution_count": 276
        }
      ],
      "source": [
        "baseline_model('edu')"
      ]
    }
  ],
  "metadata": {
    "colab": {
      "collapsed_sections": [
        "HwjDg1uM1pqe",
        "OEJ0Ci3l1pqh",
        "1_5ZZR_J1pqy",
        "WKk01pwx1pq_",
        "SxCTlXoV1prB",
        "h9xTwIf51prF",
        "UEe9yt6L1prM",
        "QlHu0wxh1prP",
        "DfQPgu1Q1prS",
        "p_d5uuAY1prZ",
        "fdLNA0ce1prd"
      ],
      "provenance": []
    },
    "kernelspec": {
      "display_name": "Python 3 (ipykernel)",
      "language": "python",
      "name": "python3"
    },
    "language_info": {
      "codemirror_mode": {
        "name": "ipython",
        "version": 3
      },
      "file_extension": ".py",
      "mimetype": "text/x-python",
      "name": "python",
      "nbconvert_exporter": "python",
      "pygments_lexer": "ipython3",
      "version": "3.9.4"
    }
  },
  "nbformat": 4,
  "nbformat_minor": 0
}